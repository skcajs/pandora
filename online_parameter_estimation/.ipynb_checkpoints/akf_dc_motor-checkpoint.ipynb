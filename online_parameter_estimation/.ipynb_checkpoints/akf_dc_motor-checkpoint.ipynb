{
 "cells": [
  {
   "cell_type": "code",
   "execution_count": 1,
   "id": "58b834f7-ac5a-4acd-8bab-c4aabf00b579",
   "metadata": {},
   "outputs": [],
   "source": [
    "import numpy as np\n",
    "import matplotlib.pyplot as plt"
   ]
  },
  {
   "cell_type": "code",
   "execution_count": 2,
   "id": "f9344935-168e-48c2-aab2-31d0bae20512",
   "metadata": {},
   "outputs": [],
   "source": [
    "# Define Dimensions\n",
    "n_x = 2\n",
    "n_theta = 6"
   ]
  },
  {
   "cell_type": "code",
   "execution_count": 3,
   "id": "6a5652f1-691e-46df-97f0-4b190d00290b",
   "metadata": {},
   "outputs": [],
   "source": [
    "# Initialise parameters\n",
    "P = np.eye(n_x)\n",
    "R = 0.1 * np.eye(n_x)\n",
    "Q = 0.1 * np.eye(n_x)\n",
    "Upsilon = np.zeros((n_x, n_theta))\n",
    "S = np.eye(n_theta)\n",
    "\n",
    "llama = 0.995\n",
    "a = 0.999\n",
    "\n",
    "x_hat = np.zeros((n_x,1))\n",
    "theta_hat = np.zeros((n_theta,1))\n",
    "\n",
    "# Initial state\n",
    "x_true = np.array([[10.0], [2.0]])  # Initial position and velocity"
   ]
  },
  {
   "cell_type": "code",
   "execution_count": 4,
   "id": "28eb7d12-9931-42bf-bdd3-a79384132072",
   "metadata": {},
   "outputs": [],
   "source": [
    "def F_k(t):\n",
    "    return 1000 + np.random.random()"
   ]
  },
  {
   "cell_type": "code",
   "execution_count": null,
   "id": "a202e26a-59ae-4608-9c7c-b1b1c0425784",
   "metadata": {},
   "outputs": [],
   "source": [
    "for k in range(N):\n",
    "    Fk = F_k(k)\n",
    "    Phi_k = np.array([\n",
    "        [x_true[0, 0], x_true[1, 0], Fk, 0, 0, 0],\n",
    "        [0, 0, 0, x_true[0, 0], x_true[1, 0], Fk]\n",
    "    ])\n",
    "\n",
    "    # Compute gains\n",
    "    P = P + Q\n",
    "    Sigma = P + R\n",
    "    K = P @ np.linalg.inv(Sigma)\n",
    "    P = (np.eye(n_x) - K) @ P\n",
    "\n",
    "\n",
    "    Omega = Upsilon + Phi_k\n",
    "    Upsilon = (np.eye(n_x) - K) @ Upsilon + (np.eye(n_x) - K) @ Phi_k\n",
    "    Lambda = np.linalg.inv(llama * Sigma + Omega @ S @ Omega.T)\n",
    "    Pi = S @ Omega.T @ Lambda\n",
    "    S = (1 / llama) * S - (1/ llama) * S @ Omega.T @ Lambda @ Omega @ S\n",
    "\n",
    "    # Estimate state and parameters\n",
    "    y_k = x_true  # Assume perfect measurements (no noise)\n",
    "    theta_previous = theta_hat.copy()\n",
    "    innovation = y_k - (x_hat + Phi_k @ theta_previous)\n",
    "    theta_hat = theta_previous + Pi @ innovation\n",
    "    x_hat = x_hat + Phi_k @ theta_previous + K @ innovation + Upsilon @ (theta_hat - theta_previous)\n",
    "    # theta_hat = theta_hat + theta_update\n",
    "    \n",
    "    # Update Covariance matrices\n",
    "    Q = a * Q + (1 - a) * (K @ (innovation @ innovation.T) @ K.T)\n",
    "    R = a * R + (1 - a) * (innovation @ innovation.T + P)\n",
    "\n",
    "    # Store results\n",
    "    x_estimates.append(x_hat.flatten())\n",
    "    theta_estimates.append(theta_hat.flatten())\n",
    "\n",
    "    # True system update\n",
    "    x_true = x_true + np.array([\n",
    "        [0, dt],\n",
    "        [-k_true * dt / m_true, -b_true * dt / m_true]\n",
    "    ]) @ x_true + np.array([[0], [dt / m_true]]) * Fk\n",
    "\n",
    "    x_trues.append(x_true.flatten())"
   ]
  }
 ],
 "metadata": {
  "kernelspec": {
   "display_name": "Python 3 (ipykernel)",
   "language": "python",
   "name": "python3"
  },
  "language_info": {
   "codemirror_mode": {
    "name": "ipython",
    "version": 3
   },
   "file_extension": ".py",
   "mimetype": "text/x-python",
   "name": "python",
   "nbconvert_exporter": "python",
   "pygments_lexer": "ipython3",
   "version": "3.12.8"
  }
 },
 "nbformat": 4,
 "nbformat_minor": 5
}
