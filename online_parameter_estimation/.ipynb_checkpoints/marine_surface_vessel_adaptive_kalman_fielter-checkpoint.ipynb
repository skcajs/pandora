{
 "cells": [
  {
   "cell_type": "code",
   "execution_count": 27,
   "id": "6d5b0647-74d0-4f98-b9c8-a0b0d1cd32fb",
   "metadata": {},
   "outputs": [],
   "source": [
    "import numpy as np\n",
    "import matplotlib.pyplot as plt"
   ]
  },
  {
   "cell_type": "code",
   "execution_count": 28,
   "id": "0211beb4-56c7-4ab0-9c54-b4272a05ea42",
   "metadata": {},
   "outputs": [],
   "source": [
    "def V_k(t):\n",
    "    return 1 if np.cos(t * 150) > 0 else -1"
   ]
  },
  {
   "cell_type": "code",
   "execution_count": 29,
   "id": "58e8523a-cdca-4bda-86ce-79c081a361a9",
   "metadata": {},
   "outputs": [],
   "source": [
    "# Define dimensions\n",
    "n_x = 3\n",
    "n_theta = 10"
   ]
  },
  {
   "cell_type": "code",
   "execution_count": 6,
   "id": "8540eb48-74f7-4925-88c6-cf1dd45125f2",
   "metadata": {},
   "outputs": [],
   "source": [
    "# Initialise terms\n",
    "P = np.eye(n_x)\n",
    "R = 0.1 * np.eye(n_x)\n",
    "Q = 0.1 * np.eye(n_x)\n",
    "Upsilon = np.zeros((n_x, n_theta))\n",
    "S = np.eye(n_theta)\n",
    "\n",
    "llama = 0.995\n",
    "a = 0.999"
   ]
  },
  {
   "cell_type": "code",
   "execution_count": 8,
   "id": "f6ba7362-d004-4004-a793-b1dbffecb297",
   "metadata": {},
   "outputs": [],
   "source": [
    "# Initialise state and parameter\n",
    "x_hat = np.zeros((n_x,1))\n",
    "theta_hat = np.zeros((n_theta,1))\n",
    "x_true = np.array([[1.0], [3.0]])  # Initial position and velocity"
   ]
  },
  {
   "cell_type": "code",
   "execution_count": 10,
   "id": "289a182c-c511-4796-b6c8-9642db0db822",
   "metadata": {},
   "outputs": [],
   "source": [
    "# Define priori\n",
    "m = 23.8\n",
    "X_u = -0.7225\n",
    "X_uu = -1.3274\n",
    "Y_v = -0.8612\n",
    "Y_vv = -36.2823\n",
    "Y_r = 0.1079\n",
    "N_v = 0.1052\n",
    "N_r = -0.5\n",
    "N_rr = -1\n",
    "X_ud = -2\n",
    "Y_vd = -10\n",
    "Y_rd = 0\n",
    "N_vd = 0\n",
    "N_rd = -1\n",
    "I_z = 1.76\n",
    "x_g = 0.046"
   ]
  },
  {
   "cell_type": "code",
   "execution_count": 13,
   "id": "4d5d9795-8128-4574-874c-ec7dc3917789",
   "metadata": {},
   "outputs": [],
   "source": [
    "m11 = m - X_ud\n",
    "m22 = m - Y_vd\n",
    "m23 = m * x_g - Y_rd\n",
    "m32 = m * x_g - N_vd\n",
    "m33 = I_z - N_rd\n",
    "M = np.array([[m11, 0, 0], [0, m22, m23], [0, m32, m33 ]])"
   ]
  },
  {
   "cell_type": "code",
   "execution_count": 35,
   "id": "34854fcc-36f6-435f-9f82-668c609f81be",
   "metadata": {},
   "outputs": [],
   "source": [
    "ts = 0.6\n",
    "dt = 0.00001\n",
    "N = int(ts/dt)\n",
    "x_estimates = []\n",
    "x_trues = []\n",
    "theta_estimates = []\n",
    "time = np.arange(N) * dt"
   ]
  },
  {
   "cell_type": "code",
   "execution_count": 37,
   "id": "71dee791-a733-4052-896d-cc936061592d",
   "metadata": {},
   "outputs": [],
   "source": [
    "B = np.array([[1, 0, 0],[0,0,1]])\n",
    "mm = (m22 * m33) - (m23 * m32)"
   ]
  },
  {
   "cell_type": "code",
   "execution_count": null,
   "id": "6d46e9b4-78f7-44dd-ad21-4ed14e604a71",
   "metadata": {},
   "outputs": [],
   "source": []
  },
  {
   "cell_type": "code",
   "execution_count": 44,
   "id": "3dd87b66-07d9-4d52-84a6-e8e3988d75f9",
   "metadata": {},
   "outputs": [],
   "source": [
    "def C_k(v):\n",
    "    C13 = -(m22*v[1])-((m23 + m32)/2)*v[2]\n",
    "    C23 = m11 * v[0]\n",
    "    C31 = (m22*v[1])+((m23 + m32)/2)*v[2]\n",
    "    C32 = -m11 * v[0]\n",
    "    return np.array([[0,0,C13], [0,0,C23], [C31, C32, 0]])\n",
    "\n",
    "def B_tau_k(tau):\n",
    "    btk = np.array([[tau[0], 0, tau[1]]])\n",
    "    return btk.T"
   ]
  },
  {
   "cell_type": "code",
   "execution_count": 45,
   "id": "ce0e40d3-4342-4733-b1cb-103d53a27cdd",
   "metadata": {},
   "outputs": [],
   "source": [
    "dt_int = -np.array([[dt/m11, 0,0,], [0, (dt*m33)/mm, -(dt*m23)/mm], [0,-(dt*m32)/mm, (dt*m22)/mm]])"
   ]
  },
  {
   "cell_type": "code",
   "execution_count": 47,
   "id": "403c8f02-97b5-4cd5-9fc8-028e5f0e5302",
   "metadata": {},
   "outputs": [],
   "source": [
    "def b_k(v, tau):\n",
    "    return dt_int * (B_tau_k(tau) - (C_k(v)@v))"
   ]
  },
  {
   "cell_type": "code",
   "execution_count": 39,
   "id": "7de148f5-4058-45f1-af81-edfb0593e290",
   "metadata": {},
   "outputs": [
    {
     "name": "stdout",
     "output_type": "stream",
     "text": [
      "[[-3.87596899e-07 -0.00000000e+00 -0.00000000e+00]\n",
      " [-0.00000000e+00 -2.99708719e-07  1.18884459e-07]\n",
      " [-0.00000000e+00  1.18884459e-07 -3.67034591e-06]]\n"
     ]
    }
   ],
   "source": [
    "print(D_coeff)"
   ]
  },
  {
   "cell_type": "code",
   "execution_count": 21,
   "id": "7b8a416f-7e5d-47ba-9c83-f8bc047debb2",
   "metadata": {},
   "outputs": [],
   "source": []
  },
  {
   "cell_type": "code",
   "execution_count": 22,
   "id": "94a29b1d-862b-4a4a-a20d-8bf00eb5f25d",
   "metadata": {},
   "outputs": [
    {
     "ename": "ValueError",
     "evalue": "operands could not be broadcast together with shapes (2,10) (2,6) ",
     "output_type": "error",
     "traceback": [
      "\u001b[0;31m---------------------------------------------------------------------------\u001b[0m",
      "\u001b[0;31mValueError\u001b[0m                                Traceback (most recent call last)",
      "Cell \u001b[0;32mIn[22], line 15\u001b[0m\n\u001b[1;32m     11\u001b[0m K \u001b[38;5;241m=\u001b[39m P \u001b[38;5;241m@\u001b[39m np\u001b[38;5;241m.\u001b[39mlinalg\u001b[38;5;241m.\u001b[39minv(Sigma)\n\u001b[1;32m     12\u001b[0m P \u001b[38;5;241m=\u001b[39m (np\u001b[38;5;241m.\u001b[39meye(n_x) \u001b[38;5;241m-\u001b[39m K) \u001b[38;5;241m@\u001b[39m P\n\u001b[0;32m---> 15\u001b[0m Omega \u001b[38;5;241m=\u001b[39m \u001b[43mUpsilon\u001b[49m\u001b[43m \u001b[49m\u001b[38;5;241;43m+\u001b[39;49m\u001b[43m \u001b[49m\u001b[43mPhi_k\u001b[49m\n\u001b[1;32m     16\u001b[0m Upsilon \u001b[38;5;241m=\u001b[39m (np\u001b[38;5;241m.\u001b[39meye(n_x) \u001b[38;5;241m-\u001b[39m K) \u001b[38;5;241m@\u001b[39m Upsilon \u001b[38;5;241m+\u001b[39m (np\u001b[38;5;241m.\u001b[39meye(n_x) \u001b[38;5;241m-\u001b[39m K) \u001b[38;5;241m@\u001b[39m Phi_k\n\u001b[1;32m     17\u001b[0m Lambda \u001b[38;5;241m=\u001b[39m np\u001b[38;5;241m.\u001b[39mlinalg\u001b[38;5;241m.\u001b[39minv(llama \u001b[38;5;241m*\u001b[39m Sigma \u001b[38;5;241m+\u001b[39m Omega \u001b[38;5;241m@\u001b[39m S \u001b[38;5;241m@\u001b[39m Omega\u001b[38;5;241m.\u001b[39mT)\n",
      "\u001b[0;31mValueError\u001b[0m: operands could not be broadcast together with shapes (2,10) (2,6) "
     ]
    }
   ],
   "source": [
    "for k in range(N):\n",
    "    Fk = V_k(k * dt)\n",
    "    Phi_k = np.array([\n",
    "        [x_true[0, 0], x_true[1, 0], Fk, 0, 0, 0],\n",
    "        [0, 0, 0, x_true[0, 0], x_true[1, 0], Fk]\n",
    "    ])\n",
    "\n",
    "    # Compute gains\n",
    "    P = P + Q\n",
    "    Sigma = P + R\n",
    "    K = P @ np.linalg.inv(Sigma)\n",
    "    P = (np.eye(n_x) - K) @ P\n",
    "\n",
    "\n",
    "    Omega = Upsilon + Phi_k\n",
    "    Upsilon = (np.eye(n_x) - K) @ Upsilon + (np.eye(n_x) - K) @ Phi_k\n",
    "    Lambda = np.linalg.inv(llama * Sigma + Omega @ S @ Omega.T)\n",
    "    Pi = S @ Omega.T @ Lambda\n",
    "    S = (1 / llama) * S - (1/ llama) * S @ Omega.T @ Lambda @ Omega @ S\n",
    "\n",
    "    # Estimate state and parameters\n",
    "    y_k = x_true  # Assume perfect measurements (no noise)\n",
    "    theta_previous = theta_hat.copy()\n",
    "    innovation = y_k - (x_hat + Phi_k @ theta_previous)\n",
    "    theta_hat = theta_previous + Pi @ innovation\n",
    "    x_hat = x_hat + Phi_k @ theta_previous + K @ innovation + Upsilon @ (theta_hat - theta_previous)\n",
    "    # theta_hat = theta_hat + theta_update\n",
    "    \n",
    "    # Update Covariance matrices\n",
    "    Q = a * Q + (1 - a) * (K @ (innovation @ innovation.T) @ K.T)\n",
    "    R = a * R + (1 - a) * (innovation @ innovation.T + P)\n",
    "\n",
    "    # Store results\n",
    "    x_estimates.append(x_hat.flatten())\n",
    "    theta_estimates.append(theta_hat.flatten())\n",
    "\n",
    "    # True system update\n",
    "    x_true = x_true + np.array([\n",
    "        [-r_true * dt/l_true, -k_true * dt/l_true],\n",
    "        [k_true * dt/ j_true, -f_true * dt / j_true]\n",
    "    ]) @ x_true + np.array([[dt / l_true], [0]]) * Fk\n",
    "\n",
    "    x_trues.append(x_true.flatten())"
   ]
  },
  {
   "cell_type": "code",
   "execution_count": 14,
   "id": "953e5e3a-bc9f-4a70-b022-d85e7948e2fe",
   "metadata": {},
   "outputs": [
    {
     "data": {
      "text/plain": [
       "array([[25.8   ,  0.    ,  0.    ],\n",
       "       [ 0.    , 33.8   ,  1.0948],\n",
       "       [ 0.    ,  1.0948,  2.76  ]])"
      ]
     },
     "execution_count": 14,
     "metadata": {},
     "output_type": "execute_result"
    }
   ],
   "source": []
  },
  {
   "cell_type": "code",
   "execution_count": null,
   "id": "c0a91108-911e-457b-b1c4-005f8624884f",
   "metadata": {},
   "outputs": [],
   "source": []
  }
 ],
 "metadata": {
  "kernelspec": {
   "display_name": "Python 3 (ipykernel)",
   "language": "python",
   "name": "python3"
  },
  "language_info": {
   "codemirror_mode": {
    "name": "ipython",
    "version": 3
   },
   "file_extension": ".py",
   "mimetype": "text/x-python",
   "name": "python",
   "nbconvert_exporter": "python",
   "pygments_lexer": "ipython3",
   "version": "3.12.8"
  }
 },
 "nbformat": 4,
 "nbformat_minor": 5
}
