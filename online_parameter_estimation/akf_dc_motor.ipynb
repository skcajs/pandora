{
 "cells": [
  {
   "cell_type": "code",
   "execution_count": 8,
   "id": "58b834f7-ac5a-4acd-8bab-c4aabf00b579",
   "metadata": {},
   "outputs": [],
   "source": [
    "import numpy as np\n",
    "import matplotlib.pyplot as plt"
   ]
  },
  {
   "cell_type": "code",
   "execution_count": 9,
   "id": "f9344935-168e-48c2-aab2-31d0bae20512",
   "metadata": {},
   "outputs": [],
   "source": [
    "# Define Dimensions\n",
    "n_x = 2\n",
    "n_theta = 6"
   ]
  },
  {
   "cell_type": "code",
   "execution_count": 10,
   "id": "6a5652f1-691e-46df-97f0-4b190d00290b",
   "metadata": {},
   "outputs": [],
   "source": [
    "# Initialise parameters\n",
    "P = np.eye(n_x)\n",
    "R = 0.1 * np.eye(n_x)\n",
    "Q = 0.1 * np.eye(n_x)\n",
    "Upsilon = np.zeros((n_x, n_theta))\n",
    "S = np.eye(n_theta)\n",
    "\n",
    "llama = 0.995\n",
    "a = 0.999\n",
    "\n",
    "x_hat = np.zeros((n_x,1))\n",
    "theta_hat = np.zeros((n_theta,1))\n",
    "\n",
    "# Initial state\n",
    "x_true = np.array([[0.0], [0.0]])  # Initial position and velocity"
   ]
  },
  {
   "cell_type": "code",
   "execution_count": 11,
   "id": "3cd32391-c755-4a8e-92ef-01807037d591",
   "metadata": {},
   "outputs": [],
   "source": [
    "# System parameters (unknown, to be estimated)\n",
    "R_true = 0.75  # Spring constant\n",
    "K_true = 0.04   # Damping coefficient\n",
    "L_true = 0.0015  # Mass\n",
    "J_true = 0.0002\n",
    "f_true = 0.003"
   ]
  },
  {
   "cell_type": "code",
   "execution_count": 12,
   "id": "28eb7d12-9931-42bf-bdd3-a79384132072",
   "metadata": {},
   "outputs": [],
   "source": [
    "def V_k(t):\n",
    "    return 1 if np.cos(t) > 0 else -1"
   ]
  },
  {
   "cell_type": "code",
   "execution_count": 13,
   "id": "7b82f00d-c7b2-4803-a689-aaacff348ea0",
   "metadata": {},
   "outputs": [],
   "source": [
    "ts = 5\n",
    "dt = 0.001\n",
    "N = int(ts/dt)\n",
    "x_estimates = []\n",
    "x_trues = []\n",
    "theta_estimates = []"
   ]
  },
  {
   "cell_type": "code",
   "execution_count": 14,
   "id": "a202e26a-59ae-4608-9c7c-b1b1c0425784",
   "metadata": {
    "scrolled": true
   },
   "outputs": [
    {
     "name": "stderr",
     "output_type": "stream",
     "text": [
      "/tmp/ipykernel_27264/1346803111.py:17: RuntimeWarning: overflow encountered in matmul\n",
      "  Lambda = np.linalg.inv(llama * Sigma + Omega @ S @ Omega.T)\n",
      "/tmp/ipykernel_27264/1346803111.py:17: RuntimeWarning: invalid value encountered in matmul\n",
      "  Lambda = np.linalg.inv(llama * Sigma + Omega @ S @ Omega.T)\n",
      "/tmp/ipykernel_27264/1346803111.py:38: RuntimeWarning: overflow encountered in matmul\n",
      "  x_true = x_true + np.array([\n",
      "/tmp/ipykernel_27264/1346803111.py:38: RuntimeWarning: invalid value encountered in add\n",
      "  x_true = x_true + np.array([\n"
     ]
    }
   ],
   "source": [
    "for k in range(N):\n",
    "    Vk = V_k(k * dt)\n",
    "    Phi_k = np.array([\n",
    "        [x_true[0, 0], x_true[1, 0], Vk, 0, 0, 0],\n",
    "        [0, 0, 0, x_true[0, 0], x_true[1, 0], Vk]\n",
    "    ])\n",
    "\n",
    "    # Compute gains\n",
    "    P = P + Q\n",
    "    Sigma = P + R\n",
    "    K = P @ np.linalg.inv(Sigma)\n",
    "    P = (np.eye(n_x) - K) @ P\n",
    "\n",
    "\n",
    "    Omega = Upsilon + Phi_k\n",
    "    Upsilon = (np.eye(n_x) - K) @ Upsilon + (np.eye(n_x) - K) @ Phi_k\n",
    "    Lambda = np.linalg.inv(llama * Sigma + Omega @ S @ Omega.T)\n",
    "    Pi = S @ Omega.T @ Lambda\n",
    "    S = (1 / llama) * S - (1/ llama) * S @ Omega.T @ Lambda @ Omega @ S\n",
    "\n",
    "    # Estimate state and parameters\n",
    "    y_k = x_true  # Assume perfect measurements (no noise)\n",
    "    theta_previous = theta_hat.copy()\n",
    "    innovation = y_k - (x_hat + Phi_k @ theta_previous)\n",
    "    theta_hat = theta_previous + Pi @ innovation\n",
    "    x_hat = x_hat + Phi_k @ theta_previous + K @ innovation + Upsilon @ (theta_hat - theta_previous)\n",
    "    # theta_hat = theta_hat + theta_update\n",
    "    \n",
    "    # Update Covariance matrices\n",
    "    Q = a * Q + (1 - a) * (K @ (innovation @ innovation.T) @ K.T)\n",
    "    R = a * R + (1 - a) * (innovation @ innovation.T + P)\n",
    "\n",
    "    # Store results\n",
    "    x_estimates.append(x_hat.flatten())\n",
    "    theta_estimates.append(theta_hat.flatten())\n",
    "\n",
    "    # True system update\n",
    "    x_true = x_true + np.array([\n",
    "        [-R_true/L_true, -K_true/L_true],\n",
    "        [-K_true/J_true, -f_true/J_true]\n",
    "    ]) @ x_true + np.array([[1/L_true], [0]]) * Vk\n",
    "\n",
    "    x_trues.append(x_true.flatten())"
   ]
  },
  {
   "cell_type": "code",
   "execution_count": null,
   "id": "b8629bf0-f365-41f4-abb4-d0529a0c5dc3",
   "metadata": {},
   "outputs": [],
   "source": []
  },
  {
   "cell_type": "code",
   "execution_count": null,
   "id": "a40eda26-1968-4270-af67-ed05cfa6b403",
   "metadata": {},
   "outputs": [],
   "source": []
  }
 ],
 "metadata": {
  "kernelspec": {
   "display_name": "Python 3 (ipykernel)",
   "language": "python",
   "name": "python3"
  },
  "language_info": {
   "codemirror_mode": {
    "name": "ipython",
    "version": 3
   },
   "file_extension": ".py",
   "mimetype": "text/x-python",
   "name": "python",
   "nbconvert_exporter": "python",
   "pygments_lexer": "ipython3",
   "version": "3.12.8"
  }
 },
 "nbformat": 4,
 "nbformat_minor": 5
}
