{
 "cells": [
  {
   "cell_type": "code",
   "execution_count": 1,
   "id": "81d7bc2f-e51f-48f0-8455-fbc11e8b1df8",
   "metadata": {},
   "outputs": [],
   "source": [
    "import numpy as np"
   ]
  },
  {
   "cell_type": "code",
   "execution_count": 2,
   "id": "74b124f4-b07f-483f-99a6-c719edd4f7e3",
   "metadata": {},
   "outputs": [],
   "source": [
    "def b_k(y_k, u_k):\n",
    "    return np.array([0.1 * y_k + 0.5 * u_k])\n",
    "\n",
    "def phi_k(y_k, u_k):\n",
    "    return np.array([0.2 * y_k + 0.1 * u_k])"
   ]
  },
  {
   "cell_type": "code",
   "execution_count": 3,
   "id": "d5e6dba7-57f3-493b-b933-0c013e5f7354",
   "metadata": {},
   "outputs": [],
   "source": [
    "# Define Dimensions\n",
    "n_x = 2\n",
    "n_theta = 6"
   ]
  },
  {
   "cell_type": "code",
   "execution_count": 8,
   "id": "a57517c9-5adf-40c3-aa2a-95c33e4158fe",
   "metadata": {},
   "outputs": [],
   "source": [
    "# Initialise parameters\n",
    "P_x = 0.1 * np.eye(n_x)\n",
    "P_theta = 1E8 * np.eye(n_theta)\n",
    "R_x = np.eye(n_x)\n",
    "R_theta = np.eye(n_x)\n",
    "lambda_x = 0.9\n",
    "lambda_theta = 0.9985\n",
    "gamma = np.zeros((2,6))\n",
    "\n",
    "x_hat = np.zeros(n_x)\n",
    "theta_hat = np.zeros(n_theta)"
   ]
  },
  {
   "cell_type": "code",
   "execution_count": 11,
   "id": "348accee-b644-400f-8fb5-817467cf8805",
   "metadata": {},
   "outputs": [],
   "source": [
    "k = 0\n",
    "N = 1\n",
    "y_data = np.random.randn(N)\n",
    "u_data = np.random.randn(N)"
   ]
  },
  {
   "cell_type": "code",
   "execution_count": 12,
   "id": "6da7c7dd-5b43-4ab3-bdcd-05e85a979276",
   "metadata": {},
   "outputs": [],
   "source": [
    "for k in range(N):\n",
    "    y_k = y_data[k]\n",
    "    u_k = u_data[k]\n",
    "    \n",
    "    # Compute the gains\n",
    "    K_x = P_x @ np.linalg.inv(P_x + R_x)\n",
    "    K_theta = P_theta @ np.transpose(gamma) @ np.linalg.inv(gamma @ P_theta @ np.transpose(gamma) + R_theta)\n",
    "    gamma = (np.identity(2) - K_x) @ gamma\n",
    "\n",
    "    # Estimate x^k and theta^k\n",
    "    x_hat = x_hat + (K_x + gamma @ K_theta) @ (y_k - x_hat)\n",
    "    theta_hat = theta_hat - K_theta @ (y_k - x_hat)\n",
    "\n",
    "    # update model\n",
    "    x_hat = x_hat + b_k(y_k, u_k) + phi_k(y_k,u_k)\n",
    "    theta_hat = theta_hat\n",
    "    P_x = (1/lambda_x) * (np.identity(2) - K_x) @ P_x\n",
    "    P_theta = (1/lambda_theta) * (np.identity(6) - K_theta @ gamma) @ P_theta\n",
    "    gamma = gamma - phi_k(y_k, u_k)"
   ]
  },
  {
   "cell_type": "code",
   "execution_count": null,
   "id": "2391d1e6-9f0c-47ed-a092-665e539d4a2a",
   "metadata": {},
   "outputs": [],
   "source": []
  }
 ],
 "metadata": {
  "kernelspec": {
   "display_name": "Python 3 (ipykernel)",
   "language": "python",
   "name": "python3"
  },
  "language_info": {
   "codemirror_mode": {
    "name": "ipython",
    "version": 3
   },
   "file_extension": ".py",
   "mimetype": "text/x-python",
   "name": "python",
   "nbconvert_exporter": "python",
   "pygments_lexer": "ipython3",
   "version": "3.12.8"
  }
 },
 "nbformat": 4,
 "nbformat_minor": 5
}
