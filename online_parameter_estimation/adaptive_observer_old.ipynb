{
 "cells": [
  {
   "cell_type": "code",
   "execution_count": 36,
   "id": "9d03ec3f-1824-4e7a-bffc-3eced1342c27",
   "metadata": {},
   "outputs": [],
   "source": [
    "import numpy as np"
   ]
  },
  {
   "cell_type": "code",
   "execution_count": 37,
   "id": "52883cd9-1139-44d4-95d3-73a9a95e67e8",
   "metadata": {},
   "outputs": [],
   "source": [
    "# Parameter Values\n",
    "\n",
    "initial_state_covariance = 0.1 * np.identity(2)\n",
    "initial_parameter_covariance = 10**8 * np.identity(6)\n",
    "tuning_state_covariance = np.identity(2)\n",
    "tuning_parameter_covariance = np.identity(2)\n",
    "state_forgetting_factor = 0.9\n",
    "parameter_forgetting_factor = 0.9985\n",
    "initial_state_parameter_cross_covariance = np.zeros((2,6))\n",
    "\n",
    "y_k = np.array([[1.0], [0.5]])\n"
   ]
  },
  {
   "cell_type": "code",
   "execution_count": 38,
   "id": "35a04fa4-a4bd-42e0-9f13-caa68eb83cb3",
   "metadata": {},
   "outputs": [],
   "source": [
    "state_estimate = np.zeros((2,1))\n",
    "parameter_estimate = np.zeros((6,1))\n",
    "state_covariance = initial_state_covariance\n",
    "parameter_covariance = initial_parameter_covariance\n",
    "state_parameter_cross_covariance = initial_state_parameter_cross_covariance"
   ]
  },
  {
   "cell_type": "code",
   "execution_count": 39,
   "id": "60b31485-b4db-4d16-ac39-f22e92164d9a",
   "metadata": {},
   "outputs": [],
   "source": [
    "N = 1\n",
    "k = 0"
   ]
  },
  {
   "cell_type": "code",
   "execution_count": 42,
   "id": "aaf64218-b6aa-464a-8183-c140dd59f57b",
   "metadata": {},
   "outputs": [],
   "source": [
    "while k < N:\n",
    "    # Compute the gains k_x, k_theta and gamma using (7)-(9)\n",
    "    observer_state_gain = state_covariance @ np.linalg.inv(state_covariance  + tuning_state_covariance)\n",
    "    observer_parameter_gain = parameter_covariance @ np.transpose(state_parameter_cross_covariance) @ np.linalg.inv(state_parameter_cross_covariance @ parameter_covariance @ np.transpose(state_parameter_cross_covariance) + tuning_parameter_covariance)\n",
    "    observer_state_parameter_gain = (np.identity(2) - observer_state_gain) @ state_parameter_cross_covariance\n",
    "\n",
    "    #Estimate x and theta using (5)-(6)\n",
    "    innovation = y_k - state_estimate\n",
    "    state_estimate = state_estimate + (observer_state_gain + observer_state_parameter_gain @ observer_parameter_gain) @ innovation\n",
    "    parameter_estimate = parameter_estimate - observer_parameter_gain @ innovation\n",
    "\n",
    "    # Update model using (14-18)\n",
    "    state_covariance = (1/state_forgetting_factor) * (np.identity(2) - observer_state_gain) @ state_covariance\n",
    "    parameter_covariance = (1/parameter_forgetting_factor) * (np.identity(6) - observer_parameter_gain @ observer_state_parameter_gain) @ parameter_covariance\n",
    "    observer_state_parameter_gain = observer_state_parameter_gain\n",
    "    k+=1"
   ]
  },
  {
   "cell_type": "code",
   "execution_count": 15,
   "id": "5f1037f1-1aac-4824-af0f-643bd1c2c631",
   "metadata": {},
   "outputs": [
    {
     "data": {
      "text/plain": [
       "array([[0.1, 0. ],\n",
       "       [0. , 0.1]])"
      ]
     },
     "execution_count": 15,
     "metadata": {},
     "output_type": "execute_result"
    }
   ],
   "source": [
    "state_covariance"
   ]
  },
  {
   "cell_type": "code",
   "execution_count": 17,
   "id": "1dc46f29-4414-48a3-a9b4-3cdbac55c3e1",
   "metadata": {},
   "outputs": [
    {
     "data": {
      "text/plain": [
       "array([[1., 0.],\n",
       "       [0., 1.]])"
      ]
     },
     "execution_count": 17,
     "metadata": {},
     "output_type": "execute_result"
    }
   ],
   "source": [
    "tuning_state_covariance"
   ]
  },
  {
   "cell_type": "code",
   "execution_count": null,
   "id": "581b3e6d-3995-460e-8970-d5f49751198b",
   "metadata": {},
   "outputs": [],
   "source": []
  }
 ],
 "metadata": {
  "kernelspec": {
   "display_name": "Python 3 (ipykernel)",
   "language": "python",
   "name": "python3"
  },
  "language_info": {
   "codemirror_mode": {
    "name": "ipython",
    "version": 3
   },
   "file_extension": ".py",
   "mimetype": "text/x-python",
   "name": "python",
   "nbconvert_exporter": "python",
   "pygments_lexer": "ipython3",
   "version": "3.12.8"
  }
 },
 "nbformat": 4,
 "nbformat_minor": 5
}
