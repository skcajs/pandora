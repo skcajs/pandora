{
 "cells": [
  {
   "cell_type": "code",
   "execution_count": 62,
   "id": "8a47186a-8261-4541-9a77-f6de19db9007",
   "metadata": {},
   "outputs": [],
   "source": [
    "import torch\n",
    "import numpy as np\n",
    "from sbi.inference import SNPE\n",
    "from sbi.utils import BoxUniform\n",
    "from sbi import analysis"
   ]
  },
  {
   "cell_type": "code",
   "execution_count": 65,
   "id": "ba465e3d-2fe3-4b45-b427-95415866dc1f",
   "metadata": {},
   "outputs": [],
   "source": [
    "# Define the mass-spring-damper simulator\n",
    "def mass_spring_damper(theta):\n",
    "    \"\"\"Simulator for mass-spring-damper system.\"\"\"\n",
    "    k, b, m = theta\n",
    "    dt = 0.01  # Time step\n",
    "    T = 1.0  # Total simulation time\n",
    "    steps = int(T / dt)\n",
    "    \n",
    "    x, v = 10.0, 3.0  # Initial conditions\n",
    "    F = np.zeros(steps)  # External force (can be modified)\n",
    "\n",
    "    states = []\n",
    "    for t in range(steps):\n",
    "        x_new = x + dt * v\n",
    "        v_new = v + dt * (-k * x / m - b * v / m) + (dt / m) * F[t]\n",
    "        x, v = x_new, v_new\n",
    "        states.append([x, v])\n",
    "\n",
    "    return torch.tensor(states).flatten()"
   ]
  },
  {
   "cell_type": "code",
   "execution_count": 67,
   "id": "c59e8bb0-4c6d-4004-af79-1d4495223709",
   "metadata": {},
   "outputs": [],
   "source": [
    "theta_o = np.array((10,5,2))\n",
    "x = mass_spring_damper(theta_o)"
   ]
  },
  {
   "cell_type": "code",
   "execution_count": 68,
   "id": "752a181d-c5d6-4719-a64d-8493ca9e4d44",
   "metadata": {},
   "outputs": [],
   "source": [
    "# Define prior distributions for k, b, m\n",
    "prior = BoxUniform(low=torch.tensor([5, 2.5, 1]), \n",
    "                   high=torch.tensor([15.0, 7.5, 3]))"
   ]
  },
  {
   "cell_type": "code",
   "execution_count": 69,
   "id": "8607da7e-90c1-4ac2-a1ff-b183e6a3dde3",
   "metadata": {},
   "outputs": [],
   "source": [
    "# Create inference object\n",
    "inference = SNPE(prior=prior)"
   ]
  },
  {
   "cell_type": "code",
   "execution_count": 74,
   "id": "125dfcca-c6e3-4d6c-8019-cfbe73f145c5",
   "metadata": {},
   "outputs": [
    {
     "data": {
      "text/plain": [
       "tensor([[8.8996, 6.5566, 1.8507]])"
      ]
     },
     "execution_count": 74,
     "metadata": {},
     "output_type": "execute_result"
    }
   ],
   "source": [
    "# Generate training data\n",
    "theta_samples = prior.sample((1,))  # Sample parameters\n",
    "theta_samples\n",
    "# x_samples = torch.stack([mass_spring_damper(theta) for theta in theta_samples])"
   ]
  },
  {
   "cell_type": "code",
   "execution_count": 60,
   "id": "74eec720-4bf9-4d00-93f0-739fe03ad0fc",
   "metadata": {},
   "outputs": [
    {
     "name": "stdout",
     "output_type": "stream",
     "text": [
      " Neural network successfully converged after 238 epochs."
     ]
    }
   ],
   "source": [
    "# Train the inference model\n",
    "density_estimator = inference.append_simulations(theta_samples, x_samples).train()\n",
    "posterior = inference.build_posterior(density_estimator)"
   ]
  },
  {
   "cell_type": "code",
   "execution_count": 61,
   "id": "121d6b22-3123-42f8-86ed-3971f4ac51a1",
   "metadata": {},
   "outputs": [
    {
     "data": {
      "application/vnd.jupyter.widget-view+json": {
       "model_id": "4455535b2de945e9afc58b41cf532ade",
       "version_major": 2,
       "version_minor": 0
      },
      "text/plain": [
       "Drawing 1000 posterior samples:   0%|          | 0/1000 [00:00<?, ?it/s]"
      ]
     },
     "metadata": {},
     "output_type": "display_data"
    },
    {
     "data": {
      "text/plain": [
       "(<Figure size 600x600 with 9 Axes>,\n",
       " array([[<Axes: xlabel='k'>, <Axes: >, <Axes: >],\n",
       "        [<Axes: >, <Axes: xlabel='b'>, <Axes: >],\n",
       "        [<Axes: xlabel='k'>, <Axes: xlabel='b'>, <Axes: xlabel='m'>]],\n",
       "       dtype=object))"
      ]
     },
     "execution_count": 61,
     "metadata": {},
     "output_type": "execute_result"
    },
    {
     "data": {
      "image/png": "[encoded data removed]",
      "text/plain": [
       "<Figure size 600x600 with 9 Axes>"
      ]
     },
     "metadata": {},
     "output_type": "display_data"
    }
   ],
   "source": [
    "\n",
    "# Define the true parameters\n",
    "true_parameter = torch.tensor([10.0, 5.0, 2.0])  # [k, b, m]\n",
    "\n",
    "# Generate observed data using true parameters\n",
    "x_observed = mass_spring_damper(true_parameter)\n",
    "\n",
    "# Condition the posterior on observed data\n",
    "posterior = posterior.set_default_x(x_observed)\n",
    "\n",
    "# Sample from the inferred posterior\n",
    "samples = posterior.sample((1000,))\n",
    "\n",
    "# Plot posterior samples with true values\n",
    "analysis.pairplot(\n",
    "    samples,\n",
    "    points=true_parameter.unsqueeze(0),\n",
    "    labels=[\"k\", \"b\", \"m\"], \n",
    "    figsize=(6,6)\n",
    ")"
   ]
  },
  {
   "cell_type": "code",
   "execution_count": null,
   "id": "6a451f34-2fe9-4493-814f-f0f8e642b7d0",
   "metadata": {},
   "outputs": [],
   "source": []
  }
 ],
 "metadata": {
  "kernelspec": {
   "display_name": "Python 3 (ipykernel)",
   "language": "python",
   "name": "python3"
  },
  "language_info": {
   "codemirror_mode": {
    "name": "ipython",
    "version": 3
   },
   "file_extension": ".py",
   "mimetype": "text/x-python",
   "name": "python",
   "nbconvert_exporter": "python",
   "pygments_lexer": "ipython3",
   "version": "3.12.8"
  }
 },
 "nbformat": 4,
 "nbformat_minor": 5
}
