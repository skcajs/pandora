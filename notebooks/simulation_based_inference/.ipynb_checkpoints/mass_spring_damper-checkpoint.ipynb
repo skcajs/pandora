{
 "cells": [
  {
   "cell_type": "code",
   "execution_count": 1,
   "id": "57dc535a-204a-4e44-894b-61862c3c362b",
   "metadata": {},
   "outputs": [],
   "source": [
    "import matplotlib as mpl\n",
    "import matplotlib.pyplot as plt\n",
    "import numpy as np\n",
    "import torch\n",
    "\n",
    "from sbi.inference import NPE\n",
    "from sbi.analysis import pairplot\n",
    "from sbi.utils import BoxUniform"
   ]
  },
  {
   "cell_type": "code",
   "execution_count": 2,
   "id": "2097e61e-bf8c-4623-b832-96123c3bef83",
   "metadata": {},
   "outputs": [],
   "source": [
    "num_dim = 3"
   ]
  },
  {
   "cell_type": "code",
   "execution_count": 13,
   "id": "03dd269c-d35c-4c5c-bc1c-64364af7ac5b",
   "metadata": {},
   "outputs": [],
   "source": [
    "def simulator(theta):\n",
    "    m,k,b = theta\n",
    "    ts = 5.0\n",
    "    dt = 0.01\n",
    "    step = int(ts/dt)\n",
    "    t = np.linspace(0, ts, step)\n",
    "    xk = np.array([10,3])\n",
    "    states = []\n",
    "\n",
    "    for i in range(step): \n",
    "        xk = xk + np.array([\n",
    "            (0, dt), \n",
    "            (-k*dt/m, -b*dt/m)\n",
    "        ]) @ xk + np.array((0, dt/m)) * np.cos(i*dt * 10)\n",
    "        states.append(xk.tolist())\n",
    "\n",
    "    return torch.tensor(states).flatten()\n",
    "\n",
    "def eval(t, x, val):\n",
    "    index = np.argmin(np.abs(t - val))\n",
    "    return x[index]\n"
   ]
  },
  {
   "cell_type": "code",
   "execution_count": 15,
   "id": "f46b1f00-259a-4bca-8927-d1828e455562",
   "metadata": {},
   "outputs": [],
   "source": [
    "# theta_o = np.array((10,5,2))\n",
    "# t, x = simulator(theta_o)"
   ]
  },
  {
   "cell_type": "code",
   "execution_count": 16,
   "id": "b599c949-a98f-4088-a451-bbbb093fb246",
   "metadata": {},
   "outputs": [],
   "source": [
    "# plt.plot(t, x[:, 0], \"k\")"
   ]
  },
  {
   "cell_type": "code",
   "execution_count": 17,
   "id": "04469b6a-2252-4840-b445-77d65ece1ab3",
   "metadata": {},
   "outputs": [],
   "source": [
    "# plt.plot(t, x[:, 1], \"k\")"
   ]
  },
  {
   "cell_type": "code",
   "execution_count": 18,
   "id": "521418f0-77bf-4710-bf8c-ed468b2ffd7f",
   "metadata": {},
   "outputs": [],
   "source": [
    "def get_3_values(t, x):\n",
    "    \"\"\"\n",
    "    Return 3 'x' values corresponding to t=-0.5,0,0.75 as summary statistic vector\n",
    "    \"\"\"\n",
    "    return np.array(\n",
    "        [\n",
    "            eval(t, x, 0.5),\n",
    "            eval(t, x, 2.5),\n",
    "            eval(t, x, 4.75),\n",
    "        ]\n",
    "    )"
   ]
  },
  {
   "cell_type": "code",
   "execution_count": 19,
   "id": "6e67388a-5086-49e3-b8b1-359200d4b491",
   "metadata": {},
   "outputs": [],
   "source": [
    "prior = BoxUniform(\n",
    "    low=torch.as_tensor([1.0, 1.0, 0.5]), \n",
    "    high=torch.as_tensor([20.0, 10.0, 2.0])\n",
    ")"
   ]
  },
  {
   "cell_type": "code",
   "execution_count": 20,
   "id": "fb0a192e-a62c-4c71-b7d5-335326b1b20d",
   "metadata": {},
   "outputs": [],
   "source": [
    "theta_samples = prior.sample((1000,))\n",
    "x_samples = torch.stack([simulator(theta) for theta in theta_samples])"
   ]
  },
  {
   "cell_type": "code",
   "execution_count": null,
   "id": "faf0f876-d7c6-4e13-b9ca-5ebfbe580657",
   "metadata": {},
   "outputs": [],
   "source": [
    "x_samples"
   ]
  },
  {
   "cell_type": "code",
   "execution_count": 85,
   "id": "c5623523-2d22-4417-aeff-52cb738dce06",
   "metadata": {},
   "outputs": [
    {
     "data": {
      "text/plain": [
       "tensor([[ 5.0114,  8.5277,  1.3535],\n",
       "        [12.0914,  1.3118,  1.4654],\n",
       "        [15.7647,  4.9210,  1.4610],\n",
       "        ...,\n",
       "        [18.9567,  2.8286,  1.0826],\n",
       "        [12.1697,  4.4626,  0.8181],\n",
       "        [ 9.5686,  9.6051,  1.4269]])"
      ]
     },
     "execution_count": 85,
     "metadata": {},
     "output_type": "execute_result"
    }
   ],
   "source": [
    "theta"
   ]
  },
  {
   "cell_type": "code",
   "execution_count": 300,
   "id": "dcce6964-a524-4304-86cb-3dc787f0b2ce",
   "metadata": {},
   "outputs": [],
   "source": [
    "vals = get_3_values(t, x)\n",
    "vals = torch.as_tensor(x, dtype=torch.float32)"
   ]
  },
  {
   "cell_type": "code",
   "execution_count": 301,
   "id": "12c93a62-0182-4206-8e23-db2a603024b6",
   "metadata": {},
   "outputs": [
    {
     "ename": "AssertionError",
     "evalue": "Number of parameter sets (=1000 must match the number of simulation outputs (=5000)",
     "output_type": "error",
     "traceback": [
      "\u001b[0;31m---------------------------------------------------------------------------\u001b[0m",
      "\u001b[0;31mAssertionError\u001b[0m                            Traceback (most recent call last)",
      "Cell \u001b[0;32mIn[301], line 2\u001b[0m\n\u001b[1;32m      1\u001b[0m inference \u001b[38;5;241m=\u001b[39m NPE(prior)\n\u001b[0;32m----> 2\u001b[0m _ \u001b[38;5;241m=\u001b[39m \u001b[43minference\u001b[49m\u001b[38;5;241;43m.\u001b[39;49m\u001b[43mappend_simulations\u001b[49m\u001b[43m(\u001b[49m\u001b[43mtheta\u001b[49m\u001b[43m,\u001b[49m\u001b[43m \u001b[49m\u001b[43mvals\u001b[49m\u001b[43m)\u001b[49m\u001b[38;5;241m.\u001b[39mtrain()\n\u001b[1;32m      3\u001b[0m posterior \u001b[38;5;241m=\u001b[39m inference\u001b[38;5;241m.\u001b[39mbuild_posterior()\n",
      "File \u001b[0;32m~/miniconda3/envs/pandora/lib/python3.12/site-packages/sbi/inference/trainers/npe/npe_base.py:157\u001b[0m, in \u001b[0;36mPosteriorEstimator.append_simulations\u001b[0;34m(self, theta, x, proposal, exclude_invalid_x, data_device)\u001b[0m\n\u001b[1;32m    154\u001b[0m \u001b[38;5;28;01mif\u001b[39;00m data_device \u001b[38;5;129;01mis\u001b[39;00m \u001b[38;5;28;01mNone\u001b[39;00m:\n\u001b[1;32m    155\u001b[0m     data_device \u001b[38;5;241m=\u001b[39m \u001b[38;5;28mself\u001b[39m\u001b[38;5;241m.\u001b[39m_device\n\u001b[0;32m--> 157\u001b[0m theta, x \u001b[38;5;241m=\u001b[39m \u001b[43mvalidate_theta_and_x\u001b[49m\u001b[43m(\u001b[49m\n\u001b[1;32m    158\u001b[0m \u001b[43m    \u001b[49m\u001b[43mtheta\u001b[49m\u001b[43m,\u001b[49m\u001b[43m \u001b[49m\u001b[43mx\u001b[49m\u001b[43m,\u001b[49m\u001b[43m \u001b[49m\u001b[43mdata_device\u001b[49m\u001b[38;5;241;43m=\u001b[39;49m\u001b[43mdata_device\u001b[49m\u001b[43m,\u001b[49m\u001b[43m \u001b[49m\u001b[43mtraining_device\u001b[49m\u001b[38;5;241;43m=\u001b[39;49m\u001b[38;5;28;43mself\u001b[39;49m\u001b[38;5;241;43m.\u001b[39;49m\u001b[43m_device\u001b[49m\n\u001b[1;32m    159\u001b[0m \u001b[43m\u001b[49m\u001b[43m)\u001b[49m\n\u001b[1;32m    161\u001b[0m is_valid_x, num_nans, num_infs \u001b[38;5;241m=\u001b[39m handle_invalid_x(\n\u001b[1;32m    162\u001b[0m     x, exclude_invalid_x\u001b[38;5;241m=\u001b[39mexclude_invalid_x\n\u001b[1;32m    163\u001b[0m )\n\u001b[1;32m    165\u001b[0m x \u001b[38;5;241m=\u001b[39m x[is_valid_x]\n",
      "File \u001b[0;32m~/miniconda3/envs/pandora/lib/python3.12/site-packages/sbi/utils/user_input_checks.py:713\u001b[0m, in \u001b[0;36mvalidate_theta_and_x\u001b[0;34m(theta, x, data_device, training_device)\u001b[0m\n\u001b[1;32m    710\u001b[0m \u001b[38;5;28;01massert\u001b[39;00m \u001b[38;5;28misinstance\u001b[39m(theta, Tensor), \u001b[38;5;124m\"\u001b[39m\u001b[38;5;124mParameters theta must be a `torch.Tensor`.\u001b[39m\u001b[38;5;124m\"\u001b[39m\n\u001b[1;32m    711\u001b[0m \u001b[38;5;28;01massert\u001b[39;00m \u001b[38;5;28misinstance\u001b[39m(x, Tensor), \u001b[38;5;124m\"\u001b[39m\u001b[38;5;124mSimulator output must be a `torch.Tensor`.\u001b[39m\u001b[38;5;124m\"\u001b[39m\n\u001b[0;32m--> 713\u001b[0m \u001b[38;5;28;01massert\u001b[39;00m theta\u001b[38;5;241m.\u001b[39mshape[\u001b[38;5;241m0\u001b[39m] \u001b[38;5;241m==\u001b[39m x\u001b[38;5;241m.\u001b[39mshape[\u001b[38;5;241m0\u001b[39m], (\n\u001b[1;32m    714\u001b[0m     \u001b[38;5;124mf\u001b[39m\u001b[38;5;124m\"\u001b[39m\u001b[38;5;124mNumber of parameter sets (=\u001b[39m\u001b[38;5;132;01m{\u001b[39;00mtheta\u001b[38;5;241m.\u001b[39mshape[\u001b[38;5;241m0\u001b[39m]\u001b[38;5;132;01m}\u001b[39;00m\u001b[38;5;124m must match the number of \u001b[39m\u001b[38;5;124m\"\u001b[39m\n\u001b[1;32m    715\u001b[0m     \u001b[38;5;124mf\u001b[39m\u001b[38;5;124m\"\u001b[39m\u001b[38;5;124msimulation outputs (=\u001b[39m\u001b[38;5;132;01m{\u001b[39;00mx\u001b[38;5;241m.\u001b[39mshape[\u001b[38;5;241m0\u001b[39m]\u001b[38;5;132;01m}\u001b[39;00m\u001b[38;5;124m)\u001b[39m\u001b[38;5;124m\"\u001b[39m\n\u001b[1;32m    716\u001b[0m )\n\u001b[1;32m    718\u001b[0m \u001b[38;5;66;03m# I did not fuse these asserts with the `isinstance(x, Tensor)` asserts in order\u001b[39;00m\n\u001b[1;32m    719\u001b[0m \u001b[38;5;66;03m# to give more explicit errors.\u001b[39;00m\n\u001b[1;32m    720\u001b[0m \u001b[38;5;28;01massert\u001b[39;00m theta\u001b[38;5;241m.\u001b[39mdtype \u001b[38;5;241m==\u001b[39m float32, \u001b[38;5;124m\"\u001b[39m\u001b[38;5;124mType of parameters must be float32.\u001b[39m\u001b[38;5;124m\"\u001b[39m\n",
      "\u001b[0;31mAssertionError\u001b[0m: Number of parameter sets (=1000 must match the number of simulation outputs (=5000)"
     ]
    }
   ],
   "source": [
    "inference = NPE(prior)\n",
    "_ = inference.append_simulations(theta, vals).train()\n",
    "posterior = inference.build_posterior()"
   ]
  },
  {
   "cell_type": "code",
   "execution_count": 293,
   "id": "a69567fb-3b31-4249-ae98-d06918b45e77",
   "metadata": {},
   "outputs": [],
   "source": [
    "x_o = torch.as_tensor(get_3_values(t, x), dtype=float)"
   ]
  },
  {
   "cell_type": "code",
   "execution_count": 295,
   "id": "48b76678-3de3-4d12-b759-2e47cc28b136",
   "metadata": {},
   "outputs": [
    {
     "ename": "NameError",
     "evalue": "name 'posterior' is not defined",
     "output_type": "error",
     "traceback": [
      "\u001b[0;31m---------------------------------------------------------------------------\u001b[0m",
      "\u001b[0;31mNameError\u001b[0m                                 Traceback (most recent call last)",
      "Cell \u001b[0;32mIn[295], line 1\u001b[0m\n\u001b[0;32m----> 1\u001b[0m theta_p \u001b[38;5;241m=\u001b[39m \u001b[43mposterior\u001b[49m\u001b[38;5;241m.\u001b[39msample((\u001b[38;5;241m10000\u001b[39m,), x\u001b[38;5;241m=\u001b[39mx_o)\n\u001b[1;32m      3\u001b[0m fig, axes \u001b[38;5;241m=\u001b[39m pairplot(\n\u001b[1;32m      4\u001b[0m     theta_p,\n\u001b[1;32m      5\u001b[0m     limits\u001b[38;5;241m=\u001b[39m\u001b[38;5;28mlist\u001b[39m(\u001b[38;5;28mzip\u001b[39m(prior_min, prior_max)),\n\u001b[0;32m   (...)\u001b[0m\n\u001b[1;32m     13\u001b[0m     points\u001b[38;5;241m=\u001b[39mtheta_o,\n\u001b[1;32m     14\u001b[0m );\n",
      "\u001b[0;31mNameError\u001b[0m: name 'posterior' is not defined"
     ]
    }
   ],
   "source": [
    "theta_p = posterior.sample((10000,), x=x_o)\n",
    "\n",
    "fig, axes = pairplot(\n",
    "    theta_p,\n",
    "    limits=list(zip(prior_min, prior_max)),\n",
    "    ticks=list(zip(prior_min, prior_max)),\n",
    "    figsize=(7, 7),\n",
    "    labels=[\"a\", \"b\", \"c\"],\n",
    "    fig_kwargs=dict(\n",
    "        points_offdiag={\"markersize\": 6},\n",
    "        points_colors=\"r\",\n",
    "    ),\n",
    "    points=theta_o,\n",
    ");"
   ]
  },
  {
   "cell_type": "code",
   "execution_count": null,
   "id": "35014607-714b-44cc-8dba-c560fddcf4a7",
   "metadata": {},
   "outputs": [],
   "source": []
  },
  {
   "cell_type": "code",
   "execution_count": null,
   "id": "64bc093e-6343-4e9f-b13e-d53d9d5e1563",
   "metadata": {},
   "outputs": [],
   "source": []
  }
 ],
 "metadata": {
  "kernelspec": {
   "display_name": "Python 3 (ipykernel)",
   "language": "python",
   "name": "python3"
  },
  "language_info": {
   "codemirror_mode": {
    "name": "ipython",
    "version": 3
   },
   "file_extension": ".py",
   "mimetype": "text/x-python",
   "name": "python",
   "nbconvert_exporter": "python",
   "pygments_lexer": "ipython3",
   "version": "3.12.8"
  }
 },
 "nbformat": 4,
 "nbformat_minor": 5
}
