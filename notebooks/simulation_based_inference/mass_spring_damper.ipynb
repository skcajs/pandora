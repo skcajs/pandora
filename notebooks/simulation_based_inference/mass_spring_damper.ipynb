{
 "cells": [
  {
   "cell_type": "code",
   "execution_count": 1,
   "id": "57dc535a-204a-4e44-894b-61862c3c362b",
   "metadata": {},
   "outputs": [],
   "source": [
    "import matplotlib as mpl\n",
    "import matplotlib.pyplot as plt\n",
    "import numpy as np\n",
    "import torch\n",
    "\n",
    "from sbi.inference import NPE\n",
    "from sbi.analysis import pairplot\n",
    "from sbi.utils import BoxUniform"
   ]
  },
  {
   "cell_type": "code",
   "execution_count": 2,
   "id": "2097e61e-bf8c-4623-b832-96123c3bef83",
   "metadata": {},
   "outputs": [],
   "source": [
    "num_dim = 3"
   ]
  },
  {
   "cell_type": "code",
   "execution_count": 3,
   "id": "03dd269c-d35c-4c5c-bc1c-64364af7ac5b",
   "metadata": {},
   "outputs": [],
   "source": [
    "def simulator(theta):\n",
    "    m,k,b = theta\n",
    "    ts = 5.0\n",
    "    dt = 0.01\n",
    "    steps = int(ts/dt)\n",
    "    t = np.linspace(0, ts, steps)\n",
    "    xk = np.array([10,3])\n",
    "    x=10\n",
    "    v=3\n",
    "    states = []\n",
    "\n",
    "    for i in range(steps):\n",
    "        x_new = x + dt * v\n",
    "        v_new = v + dt * (-k * x / m - b * v / m) + (dt / m) * np.cos(i*dt * 10)\n",
    "        x, v = x_new, v_new\n",
    "        states.append([x, v])\n",
    "\n",
    "    return torch.tensor(states).flatten()\n",
    "\n",
    "def eval(t, x, val):\n",
    "    index = np.argmin(np.abs(t - val))\n",
    "    return x[index]\n"
   ]
  },
  {
   "cell_type": "code",
   "execution_count": 4,
   "id": "f46b1f00-259a-4bca-8927-d1828e455562",
   "metadata": {},
   "outputs": [],
   "source": [
    "theta_o = np.array((10,5,2))\n",
    "x_o = simulator(theta_o)"
   ]
  },
  {
   "cell_type": "code",
   "execution_count": 5,
   "id": "b599c949-a98f-4088-a451-bbbb093fb246",
   "metadata": {},
   "outputs": [],
   "source": [
    "# plt.plot(t, x[:, 0], \"k\")"
   ]
  },
  {
   "cell_type": "code",
   "execution_count": 6,
   "id": "04469b6a-2252-4840-b445-77d65ece1ab3",
   "metadata": {},
   "outputs": [],
   "source": [
    "# plt.plot(t, x[:, 1], \"k\")"
   ]
  },
  {
   "cell_type": "code",
   "execution_count": 7,
   "id": "6e67388a-5086-49e3-b8b1-359200d4b491",
   "metadata": {},
   "outputs": [],
   "source": [
    "prior = BoxUniform(\n",
    "    low=torch.as_tensor([1.0, 1.0, 0.5]), \n",
    "    high=torch.as_tensor([20.0, 10.0, 2.0])\n",
    ")"
   ]
  },
  {
   "cell_type": "code",
   "execution_count": 8,
   "id": "fb0a192e-a62c-4c71-b7d5-335326b1b20d",
   "metadata": {},
   "outputs": [],
   "source": [
    "theta_samples = prior.sample((1000,))\n",
    "x_samples = torch.stack([simulator(theta) for theta in theta_samples])"
   ]
  },
  {
   "cell_type": "code",
   "execution_count": 9,
   "id": "faf0f876-d7c6-4e13-b9ca-5ebfbe580657",
   "metadata": {},
   "outputs": [],
   "source": [
    "# import required modules\n",
    "from sbi.neural_nets import posterior_nn\n",
    "from sbi.inference import SNPE\n",
    "\n",
    "# import the different choices of pre-configured embedding networks\n",
    "from sbi.neural_nets.embedding_nets import (\n",
    "    FCEmbedding,\n",
    "    CNNEmbedding,\n",
    "    PermutationInvariantEmbedding\n",
    ")\n",
    "import torch.nn as nn"
   ]
  },
  {
   "cell_type": "code",
   "execution_count": 10,
   "id": "c5623523-2d22-4417-aeff-52cb738dce06",
   "metadata": {},
   "outputs": [],
   "source": [
    "# Define a GRU-based embedding network\n",
    "class TimeSeriesEmbedding(nn.Module):\n",
    "    def __init__(self, input_dim, hidden_dim=32, output_dim=10):\n",
    "        super().__init__()\n",
    "        self.gru = nn.GRU(input_dim, hidden_dim, batch_first=True)\n",
    "        self.fc = nn.Linear(hidden_dim, output_dim)\n",
    "\n",
    "    def forward(self, x):\n",
    "        _, h = self.gru(x)  # Get the last hidden state\n",
    "        return self.fc(h.squeeze(0))  # Map to lower-dimensional summary\n",
    "\n",
    "embedding_net = TimeSeriesEmbedding(input_dim=2)  # 2 inputs (x, v)"
   ]
  },
  {
   "cell_type": "code",
   "execution_count": 11,
   "id": "d22c7f2f-b117-402f-997e-8591cf3c9fb3",
   "metadata": {},
   "outputs": [],
   "source": [
    "# instantiate the conditional neural density estimator\n",
    "neural_posterior = posterior_nn(model=\"maf\", embedding_net=embedding_net)"
   ]
  },
  {
   "cell_type": "code",
   "execution_count": 12,
   "id": "fb96ec0e-f06a-4626-8994-0f01db042ac0",
   "metadata": {},
   "outputs": [],
   "source": [
    "# setup the inference procedure with NPE\n",
    "inference = SNPE(prior=prior, density_estimator=neural_posterior)"
   ]
  },
  {
   "cell_type": "code",
   "execution_count": 17,
   "id": "dcce6964-a524-4304-86cb-3dc787f0b2ce",
   "metadata": {},
   "outputs": [],
   "source": [
    "# Reshape the input data to match the expected input size\n",
    "theta_samples_reshaped = theta_samples.view(-1, 3)\n",
    "x_samples_reshaped = x_samples.view(-1, x_samples.size(-1))"
   ]
  },
  {
   "cell_type": "code",
   "execution_count": 18,
   "id": "12c93a62-0182-4206-8e23-db2a603024b6",
   "metadata": {},
   "outputs": [
    {
     "data": {
      "text/plain": [
       "tensor([[13.7782,  6.8294,  0.5226],\n",
       "        [15.0538,  8.0929,  1.3509],\n",
       "        [12.2330,  9.7689,  0.9275],\n",
       "        ...,\n",
       "        [11.4373,  1.9335,  0.6238],\n",
       "        [ 2.7122,  6.9144,  0.6387],\n",
       "        [ 8.3824,  1.5310,  1.5553]])"
      ]
     },
     "execution_count": 18,
     "metadata": {},
     "output_type": "execute_result"
    }
   ],
   "source": [
    "theta_samples_reshaped"
   ]
  },
  {
   "cell_type": "code",
   "execution_count": 20,
   "id": "95210799",
   "metadata": {},
   "outputs": [
    {
     "data": {
      "text/plain": [
       "tensor([[ 10.0300,   2.9500,  10.0595,  ...,  -0.2003, -10.1002,  -0.1495],\n",
       "        [ 10.0300,   2.9442,  10.0594,  ...,   0.8663,  -8.9253,   0.9141],\n",
       "        [ 10.0300,   2.9187,  10.0592,  ...,   6.7667,  -5.1598,   6.8041],\n",
       "        ...,\n",
       "        [ 10.0300,   2.9823,  10.0598,  ...,  -4.5746,   2.1422,  -4.5750],\n",
       "        [ 10.0300,   2.7417,  10.0574,  ...,  -9.7548,   0.8506,  -9.7526],\n",
       "        [ 10.0300,   2.9774,  10.0598,  ...,  -3.7140,   2.0461,  -3.7098]])"
      ]
     },
     "execution_count": 20,
     "metadata": {},
     "output_type": "execute_result"
    }
   ],
   "source": [
    "x_samples"
   ]
  },
  {
   "cell_type": "code",
   "execution_count": null,
   "id": "a69567fb-3b31-4249-ae98-d06918b45e77",
   "metadata": {},
   "outputs": [],
   "source": [
    "# Append simulations and train the density estimator\n",
    "density_estimator = inference.append_simulations(theta_samples_reshaped, x_samples_reshaped).train()"
   ]
  },
  {
   "cell_type": "code",
   "execution_count": null,
   "id": "48b76678-3de3-4d12-b759-2e47cc28b136",
   "metadata": {},
   "outputs": [],
   "source": []
  },
  {
   "cell_type": "code",
   "execution_count": null,
   "id": "35014607-714b-44cc-8dba-c560fddcf4a7",
   "metadata": {},
   "outputs": [],
   "source": []
  },
  {
   "cell_type": "code",
   "execution_count": null,
   "id": "64bc093e-6343-4e9f-b13e-d53d9d5e1563",
   "metadata": {},
   "outputs": [],
   "source": []
  }
 ],
 "metadata": {
  "kernelspec": {
   "display_name": "pandora",
   "language": "python",
   "name": "python3"
  },
  "language_info": {
   "codemirror_mode": {
    "name": "ipython",
    "version": 3
   },
   "file_extension": ".py",
   "mimetype": "text/x-python",
   "name": "python",
   "nbconvert_exporter": "python",
   "pygments_lexer": "ipython3",
   "version": "3.12.8"
  }
 },
 "nbformat": 4,
 "nbformat_minor": 5
}
