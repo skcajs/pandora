{
 "cells": [
  {
   "cell_type": "code",
   "execution_count": 2,
   "id": "891d36d4",
   "metadata": {},
   "outputs": [],
   "source": [
    "from fenics import *\n",
    "import numpy as np\n",
    "import matplotlib.pyplot as plt\n",
    "from sbi.utils import BoxUniform\n",
    "import torch\n",
    "\n",
    "set_log_level(30)"
   ]
  },
  {
   "cell_type": "code",
   "execution_count": 3,
   "id": "d180d72c",
   "metadata": {},
   "outputs": [],
   "source": [
    "g = 9.81\n",
    "R = 287.0\n",
    "T_gas = 300.0\n",
    "L = 10.0\n",
    "N = 200\n",
    "T= 5.0\n",
    "\n",
    "mesh = IntervalMesh(N, 0, L)\n",
    "\n",
    "\n",
    "dx_cell = L / N\n",
    "CFL = 0.05\n",
    "\n",
    "cell_centers = np.array([cell.midpoint().x() for cell in cells(mesh)])\n",
    "\n",
    "def two_phase_simulator(theta, T=10.0, N=200, L=10.0, seed=None, return_full=False):\n",
    "    \"\"\"\n",
    "    theta: [C_wall_L, C_wall_G, C_int, theta_incline]\n",
    "    Returns:\n",
    "        (timesteps+1, N) array of alpha_L, or optionally all fields.\n",
    "    \"\"\"\n",
    "    # Unpack\n",
    "    C_wall_L, C_wall_G, C_int, theta_pipe, h_sed = theta\n",
    "\n",
    "    rho_L = 800\n",
    "    rho_G = 1.2\n",
    "\n",
    "    if seed is not None:\n",
    "        np.random.seed(seed)\n",
    "\n",
    "\n",
    "    # Initial holdup and velocity profiles\n",
    "    V = FunctionSpace(mesh, \"DG\", 0)\n",
    "    x = SpatialCoordinate(mesh)\n",
    "    alpha_L0 = project(0.5 + 0.15 * sin(2 * np.pi * x[0] / L), V)\n",
    "    alpha_G0 = project(1.0 - (0.5 + 0.15 * sin(2 * np.pi * x[0] / L)), V)\n",
    "        \n",
    "    # if use_sediment:\n",
    "    #     h_sed = 0.02\n",
    "\n",
    "    C_wall_L_effective = C_wall_L * (1 + 150 * h_sed)\n",
    "\n",
    "    u_L0 = 1.0 + .2 * np.sin(np.pi * cell_centers / L)\n",
    "    u_G0 = 2.0 + .1 * np.cos(np.pi * cell_centers / L)\n",
    "\n",
    "    dt = CFL * dx_cell / np.max([np.max(np.abs(u_L0)), np.max(np.abs(u_G0))])\n",
    "    timesteps = int(T / dt)\n",
    "\n",
    "    alpha_L_n = Function(V)\n",
    "    alpha_G_n = Function(V)\n",
    "    alpha_L_n.assign(alpha_L0)\n",
    "    alpha_G_n.assign(alpha_G0)\n",
    "    u_L_n = u_L0.copy()\n",
    "    u_G_n = u_G0.copy()\n",
    "\n",
    "    all_data_L = np.zeros((timesteps+1, V.dim()))\n",
    "    all_data_G = np.zeros((timesteps+1, V.dim()))\n",
    "    all_data_uL = np.zeros((timesteps+1, V.dim()))\n",
    "    all_data_uG = np.zeros((timesteps+1, V.dim()))\n",
    "    all_data_L[0, :] = alpha_L_n.vector().get_local()\n",
    "    all_data_G[0, :] = alpha_G_n.vector().get_local()\n",
    "    all_data_uL[0, :] = u_L_n\n",
    "    all_data_uG[0, :] = u_G_n\n",
    "\n",
    "    def compute_geometries(alpha):\n",
    "        r = max(0.01, 0.05 - h_sed)\n",
    "        h_int = np.clip(r * (2 * alpha - 1), -r + 1e-8, r - 1e-8)\n",
    "        r2 = r * r\n",
    "        root_h = np.sqrt(r2 - h_int**2)\n",
    "        A_L = r2 * np.arccos(-h_int/r) + h_int * root_h\n",
    "        A_G = r2 * np.arccos(h_int/r) - h_int * root_h\n",
    "        P_LG = 2 * root_h\n",
    "        P_LW = 2 * r * np.arccos(-h_int/r)\n",
    "        P_GW = 2 * r * np.arccos(h_int/r)\n",
    "        return h_int, A_L, A_G, P_LG, P_LW, P_GW\n",
    "\n",
    "    for step in range(1, timesteps+1):\n",
    "        alpha_L = alpha_L_n.vector().get_local()\n",
    "        alpha_G = alpha_G_n.vector().get_local()\n",
    "        u_L = u_L_n.copy()\n",
    "        u_G = u_G_n.copy()\n",
    "\n",
    "        # Geometry\n",
    "        h_int, A_L, A_G, P_LG, P_LW, P_GW = compute_geometries(alpha_L)\n",
    "        p_int = np.full_like(alpha_L, rho_G * R * T_gas)\n",
    "        # Hydrostatic pressure (linear)\n",
    "        p_av_L = p_int + rho_L * g * (h_int) * np.sin(theta_pipe)\n",
    "        p_av_G = p_int + rho_G * g * (h_int) * np.sin(theta_pipe)\n",
    "        # Pressure gradients\n",
    "        p_grad_L = np.zeros_like(p_av_L)\n",
    "        p_grad_G = np.zeros_like(p_av_G)\n",
    "        p_grad_L[1:-1] = (p_av_L[2:] - p_av_L[:-2]) / (2 * dx_cell)\n",
    "        p_grad_G[1:-1] = (p_av_G[2:] - p_av_G[:-2]) / (2 * dx_cell)\n",
    "        p_grad_L[0] = (p_av_L[1] - p_av_L[0]) / dx_cell\n",
    "        p_grad_L[-1] = (p_av_L[-1] - p_av_L[-2]) / dx_cell\n",
    "        p_grad_G[0] = (p_av_G[1] - p_av_G[0]) / dx_cell\n",
    "        p_grad_G[-1] = (p_av_G[-1] - p_av_G[-2]) / dx_cell\n",
    "\n",
    "        # --- ADVECT HOLDUPS (Upwind FV) ---\n",
    "        F_L = np.zeros_like(alpha_L)\n",
    "        F_L[1:] = A_L[1:] * u_L[1:] * alpha_L[1:]\n",
    "        F_L[0]  = A_L[0]  * u_L[0]  * alpha_L[0]\n",
    "        F_L_left = np.zeros_like(alpha_L)\n",
    "        F_L_left[1:] = A_L[:-1] * u_L[:-1] * alpha_L[:-1]\n",
    "        F_L_left[0]  = A_L[0]  * u_L[0]  * alpha_L[0]\n",
    "        alpha_L_new = alpha_L - dt/dx_cell * (F_L - F_L_left) / (A_L + 1e-12)\n",
    "\n",
    "        F_G = np.zeros_like(alpha_G)\n",
    "        F_G[1:] = A_G[1:] * u_G[1:] * alpha_G[1:]\n",
    "        F_G[0]  = A_G[0]  * u_G[0]  * alpha_G[0]\n",
    "        F_G_left = np.zeros_like(alpha_G)\n",
    "        F_G_left[1:] = A_G[:-1] * u_G[:-1] * alpha_G[:-1]\n",
    "        F_G_left[0]  = A_G[0]  * u_G[0]  * alpha_G[0]\n",
    "        alpha_G_new = alpha_G - dt/dx_cell * (F_G - F_G_left) / (A_G + 1e-12)\n",
    "\n",
    "        # --- MOMENTUM (Upwind FV + drag + pressure/grav) ---\n",
    "        m_L = alpha_L * rho_L * u_L\n",
    "        Fm_L = np.zeros_like(m_L)\n",
    "        Fm_L[1:] = A_L[1:] * (u_L[1:]**2) * alpha_L[1:] * rho_L\n",
    "        Fm_L[0]  = A_L[0] * (u_L[0]**2) * alpha_L[0] * rho_L\n",
    "        Fm_L_left = np.zeros_like(m_L)\n",
    "        Fm_L_left[1:] = A_L[:-1] * (u_L[:-1]**2) * alpha_L[:-1] * rho_L\n",
    "        Fm_L_left[0]  = A_L[0] * (u_L[0]**2) * alpha_L[0] * rho_L\n",
    "        \n",
    "        gravity_L = A_L * rho_L * g * np.sin(theta_pipe)\n",
    "        m_L_new = m_L \\\n",
    "                  - dt/dx_cell * (Fm_L - Fm_L_left) / (A_L + 1e-12) \\\n",
    "                  - dt * C_wall_L_effective * m_L \\\n",
    "                  + dt * C_int * alpha_L * rho_L * (u_G - u_L) \\\n",
    "                  - dt * A_L * p_grad_L \\\n",
    "                  + dt * gravity_L\n",
    "                  \n",
    "        u_L_new = np.where(alpha_L_new > 1e-12, m_L_new / (alpha_L_new * rho_L + 1e-12), 0.0)\n",
    "\n",
    "        m_G = alpha_G * rho_G * u_G\n",
    "        Fm_G = np.zeros_like(m_G)\n",
    "        Fm_G[1:] = A_G[1:] * (u_G[1:]**2) * alpha_G[1:] * rho_G\n",
    "        Fm_G[0]  = A_G[0] * (u_G[0]**2) * alpha_G[0] * rho_G\n",
    "        Fm_G_left = np.zeros_like(m_G)\n",
    "        Fm_G_left[1:] = A_G[:-1] * (u_G[:-1]**2) * alpha_G[:-1] * rho_G\n",
    "        Fm_G_left[0]  = A_G[0] * (u_G[0]**2) * alpha_G[0] * rho_G\n",
    "\n",
    "\n",
    "        gravity_G = A_G * rho_G * g * np.sin(theta_pipe)\n",
    "\n",
    "        m_G_new = m_G \\\n",
    "                  - dt/dx_cell * (Fm_G - Fm_G_left) / (A_G + 1e-12) \\\n",
    "                  - dt * C_wall_G * m_G \\\n",
    "                  - dt * C_int * alpha_G * rho_G * (u_G - u_L) \\\n",
    "                  - dt * A_G * p_grad_G \\\n",
    "                  + dt * gravity_G\n",
    "\n",
    "        u_G_new = np.where(alpha_G_new > 1e-12, m_G_new / (alpha_G_new * rho_G + 1e-12), 0.0)\n",
    "\n",
    "        # --- ENFORCE CLOSURE ---\n",
    "        sum_holdup = alpha_L_new + alpha_G_new\n",
    "        alpha_L_new /= (sum_holdup + 1e-12)\n",
    "        alpha_G_new /= (sum_holdup + 1e-12)\n",
    "\n",
    "        # Save and update\n",
    "        alpha_L_n.vector().set_local(alpha_L_new)\n",
    "        alpha_G_n.vector().set_local(alpha_G_new)\n",
    "        u_L_n = u_L_new\n",
    "        u_G_n = u_G_new\n",
    "        all_data_L[step, :] = alpha_L_new\n",
    "        all_data_G[step, :] = alpha_G_new\n",
    "        all_data_uL[step, :] = u_L_new\n",
    "        all_data_uG[step, :] = u_G_new\n",
    "\n",
    "    if return_full:\n",
    "        return all_data_L, all_data_G, all_data_uL, all_data_uG, timesteps\n",
    "    else:\n",
    "        return all_data_L, timesteps"
   ]
  },
  {
   "cell_type": "code",
   "execution_count": 4,
   "id": "d19c5570",
   "metadata": {},
   "outputs": [],
   "source": [
    "def fitness_func(theta_candidate):\n",
    "    sim_alpha_L, _ = two_phase_simulator(theta_candidate, T=5.0, N=200, L=10.0, seed=123, return_full=False)\n",
    "    # Compare only the final time, or over all times and cells\n",
    "    error = np.mean((sim_alpha_L - alpha_L_obs)**2)\n",
    "    return -error  # pygad maximizes fitness, so use negative error"
   ]
  },
  {
   "cell_type": "code",
   "execution_count": 5,
   "id": "57cf0db8",
   "metadata": {},
   "outputs": [],
   "source": [
    "gene_space = [\n",
    "    {'low': 0.5, 'high': 1.0},  # C_wall_L\n",
    "    {'low': 0.2, 'high': 1.0},  # C_wall_G\n",
    "    {'low': 0.1, 'high': 0.4},  # C_int\n",
    "    {'low': 0.0, 'high': np.pi/2},  # theta_incline\n",
    "    {'low': 0.0, 'high': 0.05},  # h_sed\n",
    "]"
   ]
  },
  {
   "cell_type": "code",
   "execution_count": 13,
   "id": "03292ac8",
   "metadata": {},
   "outputs": [
    {
     "name": "stdout",
     "output_type": "stream",
     "text": [
      "Best solution:  (array([0.71291515, 0.60146934, 0.24810553, 0.66889266, 0.02468425]), np.float64(-6.357433184974452e-08), np.int64(0))\n"
     ]
    }
   ],
   "source": [
    "import pygad\n",
    "\n",
    "theta_true = [0.8155, 0.6099, 0.2382, 0.3897, 0.02]\n",
    "# alpha_L_obs should be generated with theta_true as input, or real data\n",
    "alpha_L_obs, _ = two_phase_simulator(theta_true, T=5.0, N=200, L=10.0, seed=123, return_full=False)\n",
    "\n",
    "def fitness_func(ga_instance, solution, solution_idx):\n",
    "    sim_alpha_L, _ = two_phase_simulator(solution, T=5.0, N=200, L=10.0, seed=123, return_full=False)\n",
    "    error = np.mean((sim_alpha_L - alpha_L_obs)**2)\n",
    "    return -error\n",
    "\n",
    "ga_instance = pygad.GA(\n",
    "    num_generations=100,\n",
    "    num_parents_mating=10,\n",
    "    fitness_func=fitness_func,\n",
    "    sol_per_pop=20,\n",
    "    num_genes=5,\n",
    "    gene_space=gene_space,\n",
    "    mutation_percent_genes=50,\n",
    "    mutation_type=\"random\",\n",
    "    crossover_type=\"single_point\",\n",
    "    allow_duplicate_genes=False,\n",
    "    random_mutation_min_val=-0.01,\n",
    "    random_mutation_max_val=0.01,\n",
    "    stop_criteria=\"saturate_20\"\n",
    ")\n",
    "\n",
    "ga_instance.run()\n",
    "print(\"Best solution: \", ga_instance.best_solution())\n"
   ]
  },
  {
   "cell_type": "code",
   "execution_count": 15,
   "id": "82793ccf",
   "metadata": {},
   "outputs": [],
   "source": [
    "# this took 7m 19.7s\n",
    "solution, solution_fitness, _ = ga_instance.best_solution()"
   ]
  },
  {
   "cell_type": "code",
   "execution_count": 16,
   "id": "3a8afdc9",
   "metadata": {},
   "outputs": [
    {
     "name": "stdout",
     "output_type": "stream",
     "text": [
      "Estimated parameters: [0.71291515 0.60146934 0.24810553 0.66889266 0.02468425]\n",
      "True parameters:      [0.8155, 0.6099, 0.2382, 0.3897, 0.02]\n",
      "Fitness (MSE):       6.357433184974452e-08\n"
     ]
    }
   ],
   "source": [
    "print(f\"Estimated parameters: {solution}\")\n",
    "print(f\"True parameters:      {theta_true}\")\n",
    "print(f\"Fitness (MSE):       {-solution_fitness}\")"
   ]
  },
  {
   "cell_type": "code",
   "execution_count": 17,
   "id": "bd7d770a",
   "metadata": {},
   "outputs": [
    {
     "name": "stderr",
     "output_type": "stream",
     "text": [
      "/home/sam/miniconda3/envs/fenics-sbi-env/lib/python3.11/site-packages/pygad/visualize/plot.py:120: UserWarning: No artists with labels found to put in legend.  Note that artists whose label start with an underscore are ignored when legend() is called with no argument.\n",
      "  matplt.legend()\n"
     ]
    },
    {
     "data": {
      "image/png": "[encoded data removed]",
      "text/plain": [
       "<Figure size 640x480 with 1 Axes>"
      ]
     },
     "metadata": {},
     "output_type": "display_data"
    },
    {
     "data": {
      "image/png": "[encoded data removed]",
      "text/plain": [
       "<Figure size 640x480 with 1 Axes>"
      ]
     },
     "execution_count": 17,
     "metadata": {},
     "output_type": "execute_result"
    }
   ],
   "source": [
    "ga_instance.plot_fitness()"
   ]
  },
  {
   "cell_type": "code",
   "execution_count": null,
   "id": "a16897f8",
   "metadata": {},
   "outputs": [],
   "source": []
  }
 ],
 "metadata": {
  "kernelspec": {
   "display_name": "fenics-sbi-env",
   "language": "python",
   "name": "python3"
  },
  "language_info": {
   "codemirror_mode": {
    "name": "ipython",
    "version": 3
   },
   "file_extension": ".py",
   "mimetype": "text/x-python",
   "name": "python",
   "nbconvert_exporter": "python",
   "pygments_lexer": "ipython3",
   "version": "3.11.13"
  }
 },
 "nbformat": 4,
 "nbformat_minor": 5
}
