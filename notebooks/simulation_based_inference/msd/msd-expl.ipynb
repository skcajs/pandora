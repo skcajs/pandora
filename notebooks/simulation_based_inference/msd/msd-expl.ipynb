{
 "cells": [
  {
   "cell_type": "code",
   "execution_count": 1,
   "id": "14ba9c6c",
   "metadata": {},
   "outputs": [
    {
     "name": "stderr",
     "output_type": "stream",
     "text": [
      "/home/sam/miniconda3/envs/pandora/lib/python3.11/site-packages/tqdm/auto.py:21: TqdmWarning: IProgress not found. Please update jupyter and ipywidgets. See https://ipywidgets.readthedocs.io/en/stable/user_install.html\n",
      "  from .autonotebook import tqdm as notebook_tqdm\n"
     ]
    }
   ],
   "source": [
    "import numpy as np\n",
    "from scipy.integrate import odeint\n",
    "import matplotlib.pyplot as plt\n",
    "from sbi.inference import NPE, simulate_for_sbi\n",
    "import torch\n",
    "\n",
    "from sbi import utils as sbi_utils\n",
    "from sbi.utils.user_input_checks import (\n",
    "    check_sbi_inputs,\n",
    "    process_prior,\n",
    "    process_simulator,\n",
    ")"
   ]
  },
  {
   "cell_type": "code",
   "execution_count": 2,
   "id": "6216bde0",
   "metadata": {},
   "outputs": [],
   "source": [
    "# Define system of equations\n",
    "def mass_spring_damper(y, t, m, k, b):\n",
    "    x, v = y\n",
    "    F = np.interp(t, t_data, x_data[0, :, 0])\n",
    "    dxdt = v\n",
    "    dvdt = (F - b * v - k * x) / m\n",
    "    return [dxdt, dvdt]\n",
    "\n",
    "\n",
    "def mass_spring_damper_simulator(params):\n",
    "    m, k, b = params\n",
    "    t = np.linspace(0, 10, num_timesteps)  # Simulation time steps\n",
    "\n",
    "    # Solve the system\n",
    "    x0 = [0, 0]  # Initial position and velocity\n",
    "    sol = odeint(mass_spring_damper, x0, t, args=(m, k, b))\n",
    "\n",
    "    # Extract state variables\n",
    "    x = sol[:, 0]\n",
    "    v = sol[:, 1]\n",
    "\n",
    "    # Get summary statistics\n",
    "    stats = extract_summary_statistics(t, x, v)\n",
    "\n",
    "    return stats\n",
    "\n",
    "\n",
    "\n",
    "def extract_summary_statistics(t, x, v):\n",
    "    steady_state = x[-1]\n",
    "\n",
    "    # Settling time\n",
    "    settling_idx = np.where(np.abs(x - steady_state) <= 0.05 * np.abs(steady_state))[0]\n",
    "    settling_time = t[settling_idx[0]] if len(settling_idx) > 0 else np.nan\n",
    "\n",
    "    # Rise time (time to go from 10% to 90% of final value)\n",
    "    try:\n",
    "        rise_start = np.where(x >= 0.1 * steady_state)[0][0]\n",
    "        rise_end = np.where(x >= 0.9 * steady_state)[0][0]\n",
    "        rise_time = t[rise_end] - t[rise_start]\n",
    "    except IndexError:\n",
    "        rise_time = np.nan\n",
    "\n",
    "    # Peak overshoot\n",
    "    peak_overshoot = (np.max(x) - steady_state) / steady_state if steady_state != 0 else np.nan\n",
    "\n",
    "    # Final position and velocity\n",
    "    final_position = x[-1]\n",
    "    final_velocity = v[-1]\n",
    "\n",
    "    # Mean and variance of position and velocity (to handle randomness)\n",
    "    mean_position = np.mean(x)\n",
    "    var_position = np.var(x)\n",
    "    mean_velocity = np.mean(v)\n",
    "    var_velocity = np.var(v)\n",
    "    energy = np.sum(x**2)\n",
    "    max_rate_of_change = np.max(np.diff(x) / np.diff(t))\n",
    "\n",
    "    # Combine all summary stats into a single vector\n",
    "    summary_stats = np.array([\n",
    "        settling_time, rise_time, peak_overshoot,\n",
    "        final_position, final_velocity,\n",
    "        mean_position, var_position,\n",
    "        mean_velocity, var_velocity,\n",
    "        energy, max_rate_of_change\n",
    "    ])\n",
    "    \n",
    "    # Handle any NaNs with a fallback value (e.g., -1 or zero)\n",
    "    summary_stats = np.nan_to_num(summary_stats, nan=-1)\n",
    "\n",
    "    return summary_stats\n"
   ]
  },
  {
   "cell_type": "code",
   "execution_count": 3,
   "id": "b42518da",
   "metadata": {},
   "outputs": [],
   "source": [
    "# Configuration\n",
    "num_samples = 100\n",
    "t_max = 20\n",
    "num_timesteps = 64\n",
    "x_data = np.abs(np.cumsum(np.random.rand(num_samples, num_timesteps, 1) - 0.5, axis=1))\n",
    "t_data = np.linspace(0, t_max, num_timesteps)"
   ]
  },
  {
   "cell_type": "code",
   "execution_count": 4,
   "id": "27a37350",
   "metadata": {},
   "outputs": [],
   "source": [
    "# Prior distribution for (m, k, b) — assuming you know rough ranges\n",
    "prior = sbi_utils.BoxUniform(low=torch.tensor([0.1, 0.1, 0.1]),\n",
    "                                    high=torch.tensor([10.0, 10.0, 10.0]))\n",
    "\n",
    "prior, num_parameters, prior_returns_numpy = process_prior(prior)\n",
    "\n",
    "simulator_wrapper = process_simulator(\n",
    "    mass_spring_damper_simulator,\n",
    "    prior,\n",
    "    prior_returns_numpy\n",
    ")\n",
    "\n",
    "check_sbi_inputs(simulator_wrapper, prior)\n",
    "\n",
    "# Create inference object\n",
    "inference = NPE(prior)"
   ]
  },
  {
   "cell_type": "code",
   "execution_count": 5,
   "id": "e2852edb",
   "metadata": {},
   "outputs": [
    {
     "name": "stderr",
     "output_type": "stream",
     "text": [
      "100%|██████████| 10000/10000 [12:25<00:00, 13.42it/s]\n"
     ]
    }
   ],
   "source": [
    "theta, x = simulate_for_sbi(simulator_wrapper, prior, num_simulations=10000)"
   ]
  },
  {
   "cell_type": "code",
   "execution_count": 6,
   "id": "15a907f6",
   "metadata": {},
   "outputs": [
    {
     "name": "stdout",
     "output_type": "stream",
     "text": [
      " Neural network successfully converged after 122 epochs."
     ]
    }
   ],
   "source": [
    "# Train the inference network\n",
    "density_estimator = inference.append_simulations(theta, x).train()\n",
    "\n",
    "# Build posterior\n",
    "posterior = inference.build_posterior(density_estimator)"
   ]
  },
  {
   "cell_type": "code",
   "execution_count": 13,
   "id": "f287a5c1",
   "metadata": {},
   "outputs": [
    {
     "name": "stderr",
     "output_type": "stream",
     "text": [
      "Drawing 100000 posterior samples: 101480it [00:01, 90774.67it/s]                           "
     ]
    },
    {
     "name": "stdout",
     "output_type": "stream",
     "text": [
      "Inferred m, k, b: 8.77245044708252, 5.016533851623535, 2.011841297149658\n"
     ]
    },
    {
     "name": "stderr",
     "output_type": "stream",
     "text": [
      "\n"
     ]
    }
   ],
   "source": [
    "# Observe a new system response\n",
    "observed_data = mass_spring_damper_simulator([9.7, 5.0, 2.0])\n",
    "observed_data = torch.tensor(observed_data, dtype=torch.float32)\n",
    "# Infer parameters\n",
    "samples = posterior.sample((100000,), x=observed_data)\n",
    "m_inferred, k_inferred, b_inferred = samples.mean(dim=0)\n",
    "print(f\"Inferred m, k, b: {m_inferred}, {k_inferred}, {b_inferred}\")"
   ]
  },
  {
   "cell_type": "code",
   "execution_count": 26,
   "id": "53cf99b6",
   "metadata": {},
   "outputs": [
    {
     "data": {
      "application/vnd.jupyter.widget-view+json": {
       "model_id": "cb33a769fe15494197397b6f211b8023",
       "version_major": 2,
       "version_minor": 0
      },
      "text/plain": [
       "Drawing 100000 posterior samples:   0%|          | 0/100000 [00:00<?, ?it/s]"
      ]
     },
     "metadata": {},
     "output_type": "display_data"
    },
    {
     "name": "stdout",
     "output_type": "stream",
     "text": [
      "Sampled  m, k, b: 7.486773490905762, 2.8784236907958984, 2.032057046890259\n",
      "Inferred m, k, b: 7.852940559387207, 2.940411329269409, 1.8177616596221924\n"
     ]
    }
   ],
   "source": [
    "sample = prior.sample((1,))\n",
    "observed_data_2 = mass_spring_damper_simulator(sample.numpy()[0])\n",
    "observed_data_2 = torch.tensor(observed_data_2, dtype=torch.float32)\n",
    "# Infer parameters\n",
    "samples_2 = posterior.sample((100000,), x=observed_data_2)\n",
    "m_inferred_2, k_inferred_2, b_inferred_2 = samples_2.mean(dim=0)\n",
    "print(f\"Sampled  m, k, b: {sample[0][0]}, {sample[0][1]}, {sample[0][2]}\")\n",
    "print(f\"Inferred m, k, b: {m_inferred_2}, {k_inferred_2}, {b_inferred_2}\")"
   ]
  },
  {
   "cell_type": "code",
   "execution_count": 27,
   "id": "9298645a",
   "metadata": {},
   "outputs": [
    {
     "data": {
      "image/png": "[encoded data removed]",
      "text/plain": [
       "<Figure size 1000x1000 with 9 Axes>"
      ]
     },
     "metadata": {},
     "output_type": "display_data"
    }
   ],
   "source": [
    "from sbi import analysis\n",
    "\n",
    "fig, ax = analysis.pairplot(\n",
    "    samples_2,\n",
    "    points=sample,\n",
    "    labels=[\"m\", \"k\", \"b\"],\n",
    "    limits=[[0.1, 10.0], [0.1, 10.0], [0.1, 10.0]]  # Prior limits for m, k, b\n",
    ")"
   ]
  },
  {
   "cell_type": "code",
   "execution_count": null,
   "id": "34eafcc3",
   "metadata": {},
   "outputs": [],
   "source": []
  }
 ],
 "metadata": {
  "kernelspec": {
   "display_name": "fenics-sbi-env",
   "language": "python",
   "name": "python3"
  },
  "language_info": {
   "codemirror_mode": {
    "name": "ipython",
    "version": 3
   },
   "file_extension": ".py",
   "mimetype": "text/x-python",
   "name": "python",
   "nbconvert_exporter": "python",
   "pygments_lexer": "ipython3",
   "version": "3.11.13"
  }
 },
 "nbformat": 4,
 "nbformat_minor": 5
}
