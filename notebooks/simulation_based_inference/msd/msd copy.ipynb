{
 "cells": [
  {
   "cell_type": "code",
   "execution_count": null,
   "metadata": {},
   "outputs": [
    {
     "name": "stderr",
     "output_type": "stream",
     "text": [
      "2025-03-27 09:59:19.104804: E external/local_xla/xla/stream_executor/cuda/cuda_fft.cc:467] Unable to register cuFFT factory: Attempting to register factory for plugin cuFFT when one has already been registered\n",
      "WARNING: All log messages before absl::InitializeLog() is called are written to STDERR\n",
      "E0000 00:00:1743065959.156252    5301 cuda_dnn.cc:8579] Unable to register cuDNN factory: Attempting to register factory for plugin cuDNN when one has already been registered\n",
      "E0000 00:00:1743065959.170950    5301 cuda_blas.cc:1407] Unable to register cuBLAS factory: Attempting to register factory for plugin cuBLAS when one has already been registered\n",
      "W0000 00:00:1743065959.285403    5301 computation_placer.cc:177] computation placer already registered. Please check linkage and avoid linking the same target more than once.\n",
      "W0000 00:00:1743065959.285422    5301 computation_placer.cc:177] computation placer already registered. Please check linkage and avoid linking the same target more than once.\n",
      "W0000 00:00:1743065959.285423    5301 computation_placer.cc:177] computation placer already registered. Please check linkage and avoid linking the same target more than once.\n",
      "W0000 00:00:1743065959.285424    5301 computation_placer.cc:177] computation placer already registered. Please check linkage and avoid linking the same target more than once.\n",
      "2025-03-27 09:59:19.299420: I tensorflow/core/platform/cpu_feature_guard.cc:210] This TensorFlow binary is optimized to use available CPU instructions in performance-critical operations.\n",
      "To enable the following instructions: AVX2 FMA, in other operations, rebuild TensorFlow with the appropriate compiler flags.\n"
     ]
    }
   ],
   "source": [
    "import numpy as np\n",
    "from scipy.integrate import odeint\n",
    "import matplotlib.pyplot as plt\n",
    "from sbi.inference import NPE\n",
    "import torch\n",
    "\n",
    "\n",
    "# Generate random input signal\n",
    "num_samples = 100\n",
    "t_max = 10\n",
    "num_timesteps = 64\n",
    "\n",
    "np.random.seed(4)\n",
    "\n",
    "# Generate random input signal\n",
    "x_data = np.abs(np.cumsum(np.random.rand(num_samples, num_timesteps, 1) - 0.5, axis=1))\n",
    "t_data = np.linspace(0, t_max, num_timesteps)\n",
    "\n",
    "# Interpolate input signal to match time resolution\n",
    "t = np.linspace(0, t_max, 500)\n",
    "input_signal = np.interp(t, t_data, x_data[0, :, 0])\n",
    "\n",
    "# Define system of equations\n",
    "def mass_spring_damper(y, t, m, k, b, input_signal):\n",
    "    x, v = y\n",
    "    F = np.interp(t, t_data, x_data[0, :, 0])\n",
    "    dxdt = v\n",
    "    dvdt = (F - b * v - k * x) / m\n",
    "    return [dxdt, dvdt]"
   ]
  },
  {
   "cell_type": "code",
   "execution_count": 10,
   "metadata": {},
   "outputs": [
    {
     "name": "stdout",
     "output_type": "stream",
     "text": [
      " Neural network successfully converged after 336 epochs."
     ]
    }
   ],
   "source": [
    "\n",
    "def mass_spring_damper_simulator(params):\n",
    "    m, k, b = params\n",
    "    t = np.linspace(0, 10, num_timesteps)  # Simulation time steps\n",
    "    \n",
    "    # Generate positive or non-negative input force\n",
    "    F = np.cumsum(np.random.rand(num_timesteps) - 0.25)\n",
    "    F = np.maximum(F, 0)\n",
    "\n",
    "    # Solve the system\n",
    "    x0 = [0, 0]  # Initial position and velocity\n",
    "    sol = odeint(mass_spring_damper, x0, t, args=(m, k, b, F))\n",
    "\n",
    "    # Extract state variables\n",
    "    x = sol[:, 0]\n",
    "    v = sol[:, 1]\n",
    "\n",
    "    # Get summary statistics\n",
    "    stats = extract_summary_statistics(t, x, v)\n",
    "\n",
    "    return stats\n",
    "\n",
    "def extract_summary_statistics(t, x, v):\n",
    "    steady_state = x[-1]\n",
    "\n",
    "    # Settling time\n",
    "    settling_idx = np.where(np.abs(x - steady_state) <= 0.05 * np.abs(steady_state))[0]\n",
    "    settling_time = t[settling_idx[0]] if len(settling_idx) > 0 else np.nan\n",
    "\n",
    "    # Rise time (time to go from 10% to 90% of final value)\n",
    "    try:\n",
    "        rise_start = np.where(x >= 0.1 * steady_state)[0][0]\n",
    "        rise_end = np.where(x >= 0.9 * steady_state)[0][0]\n",
    "        rise_time = t[rise_end] - t[rise_start]\n",
    "    except IndexError:\n",
    "        rise_time = np.nan\n",
    "\n",
    "    # Peak overshoot\n",
    "    peak_overshoot = (np.max(x) - steady_state) / steady_state if steady_state != 0 else np.nan\n",
    "\n",
    "    # Final position and velocity\n",
    "    final_position = x[-1]\n",
    "    final_velocity = v[-1]\n",
    "\n",
    "    # Mean and variance of position and velocity (to handle randomness)\n",
    "    mean_position = np.mean(x)\n",
    "    var_position = np.var(x)\n",
    "    mean_velocity = np.mean(v)\n",
    "    var_velocity = np.var(v)\n",
    "    energy = np.sum(x**2)\n",
    "    max_rate_of_change = np.max(np.diff(x) / np.diff(t))\n",
    "\n",
    "    # Combine all summary stats into a single vector\n",
    "    summary_stats = np.array([\n",
    "        settling_time, rise_time, peak_overshoot,\n",
    "        final_position, final_velocity,\n",
    "        mean_position, var_position,\n",
    "        mean_velocity, var_velocity,\n",
    "        energy, max_rate_of_change\n",
    "    ])\n",
    "    \n",
    "    # Handle any NaNs with a fallback value (e.g., -1 or zero)\n",
    "    summary_stats = np.nan_to_num(summary_stats, nan=-1)\n",
    "\n",
    "    return summary_stats\n",
    "\n",
    "# Prior distribution for (m, k, b) — assuming you know rough ranges\n",
    "prior = torch.distributions.Uniform(low=torch.tensor([0.1, 0.1, 0.1]),\n",
    "                                    high=torch.tensor([10.0, 10.0, 10.0]))\n",
    "\n",
    "# Convert the simulator to a PyTorch-compatible function\n",
    "simulator = lambda params: torch.tensor(mass_spring_damper_simulator(params.numpy()), dtype=torch.float32)\n",
    "\n",
    "# Create inference object\n",
    "inference = NPE(prior)\n",
    "\n",
    "# Generate training data\n",
    "theta, x = [], []\n",
    "num_simulations = 5000\n",
    "for _ in range(num_simulations):\n",
    "    params = prior.sample().numpy()\n",
    "    theta.append(params)\n",
    "    x.append(mass_spring_damper_simulator(params))\n",
    "\n",
    "theta = torch.tensor(theta, dtype=torch.float32)\n",
    "x = torch.tensor(x, dtype=torch.float32)\n",
    "\n",
    "# Train the inference network\n",
    "density_estimator = inference.append_simulations(theta, x).train()\n",
    "\n",
    "# Build posterior\n",
    "posterior = inference.build_posterior(density_estimator)"
   ]
  },
  {
   "cell_type": "code",
   "execution_count": 11,
   "metadata": {},
   "outputs": [
    {
     "data": {
      "application/vnd.jupyter.widget-view+json": {
       "model_id": "7a886d04dbfe452c97e69b78a60e9db2",
       "version_major": 2,
       "version_minor": 0
      },
      "text/plain": [
       "Drawing 1000 posterior samples:   0%|          | 0/1000 [00:00<?, ?it/s]"
      ]
     },
     "metadata": {},
     "output_type": "display_data"
    },
    {
     "name": "stdout",
     "output_type": "stream",
     "text": [
      "Inferred m, k, b: 1.0731205940246582, 7.919112205505371, 0.865809977054596\n"
     ]
    }
   ],
   "source": [
    "# Observe a new system response\n",
    "observed_data = mass_spring_damper_simulator([1.0, 8.0, 0.8])\n",
    "observed_data = torch.tensor(observed_data, dtype=torch.float32)\n",
    "# Infer parameters\n",
    "samples = posterior.sample((1000,), x=observed_data)\n",
    "m_inferred, k_inferred, b_inferred = samples.mean(dim=0)\n",
    "print(f\"Inferred m, k, b: {m_inferred}, {k_inferred}, {b_inferred}\")"
   ]
  },
  {
   "cell_type": "code",
   "execution_count": 14,
   "metadata": {},
   "outputs": [
    {
     "data": {
      "application/vnd.jupyter.widget-view+json": {
       "model_id": "246be1ef33624bcb8a585d29526e1d45",
       "version_major": 2,
       "version_minor": 0
      },
      "text/plain": [
       "Drawing 1000 posterior samples:   0%|          | 0/1000 [00:00<?, ?it/s]"
      ]
     },
     "metadata": {},
     "output_type": "display_data"
    },
    {
     "name": "stdout",
     "output_type": "stream",
     "text": [
      "Sampled  m, k, b: 8.956321716308594, 5.260850429534912, 7.6576714515686035\n",
      "Inferred m, k, b: 8.924392700195312, 5.273158550262451, 7.623307228088379\n"
     ]
    }
   ],
   "source": [
    "sample = prior.sample((1,))\n",
    "observed_data_2 = mass_spring_damper_simulator(sample.numpy()[0])\n",
    "observed_data_2 = torch.tensor(observed_data_2, dtype=torch.float32)\n",
    "# Infer parameters\n",
    "samples_2 = posterior.sample((1000,), x=observed_data_2)\n",
    "m_inferred_2, k_inferred_2, b_inferred_2 = samples_2.mean(dim=0)\n",
    "print(f\"Sampled  m, k, b: {sample[0][0]}, {sample[0][1]}, {sample[0][2]}\")\n",
    "print(f\"Inferred m, k, b: {m_inferred_2}, {k_inferred_2}, {b_inferred_2}\")"
   ]
  },
  {
   "cell_type": "code",
   "execution_count": 15,
   "metadata": {},
   "outputs": [
    {
     "data": {
      "image/png": "[encoded data removed]",
      "text/plain": [
       "<Figure size 1000x1000 with 9 Axes>"
      ]
     },
     "metadata": {},
     "output_type": "display_data"
    }
   ],
   "source": [
    "from sbi import analysis\n",
    "\n",
    "fig, ax = analysis.pairplot(\n",
    "    samples_2,\n",
    "    points=sample,\n",
    "    labels=[\"m\", \"k\", \"b\"],\n",
    "    limits=[[0.1, 10.0], [0.1, 10.0], [0.1, 10.0]]  # Prior limits for m, k, b\n",
    ")"
   ]
  },
  {
   "cell_type": "code",
   "execution_count": 7,
   "metadata": {},
   "outputs": [],
   "source": [
    "import pickle\n",
    "with open(f\"./models/msd_summary_statistics_{num_simulations}.pkl\", \"wb\") as handle:\n",
    "    pickle.dump(posterior, handle)"
   ]
  },
  {
   "cell_type": "code",
   "execution_count": null,
   "metadata": {},
   "outputs": [],
   "source": []
  }
 ],
 "metadata": {
  "kernelspec": {
   "display_name": "pandora",
   "language": "python",
   "name": "python3"
  },
  "language_info": {
   "codemirror_mode": {
    "name": "ipython",
    "version": 3
   },
   "file_extension": ".py",
   "mimetype": "text/x-python",
   "name": "python",
   "nbconvert_exporter": "python",
   "pygments_lexer": "ipython3",
   "version": "3.12.8"
  }
 },
 "nbformat": 4,
 "nbformat_minor": 2
}
