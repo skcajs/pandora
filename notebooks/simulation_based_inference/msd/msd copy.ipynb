{
 "cells": [
  {
   "cell_type": "code",
   "execution_count": null,
   "metadata": {},
   "outputs": [
    {
     "name": "stderr",
     "output_type": "stream",
     "text": [
      "2025-05-07 08:41:49.057533: E external/local_xla/xla/stream_executor/cuda/cuda_fft.cc:467] Unable to register cuFFT factory: Attempting to register factory for plugin cuFFT when one has already been registered\n",
      "WARNING: All log messages before absl::InitializeLog() is called are written to STDERR\n",
      "E0000 00:00:1746600109.069836    5810 cuda_dnn.cc:8579] Unable to register cuDNN factory: Attempting to register factory for plugin cuDNN when one has already been registered\n",
      "E0000 00:00:1746600109.073541    5810 cuda_blas.cc:1407] Unable to register cuBLAS factory: Attempting to register factory for plugin cuBLAS when one has already been registered\n",
      "W0000 00:00:1746600109.082585    5810 computation_placer.cc:177] computation placer already registered. Please check linkage and avoid linking the same target more than once.\n",
      "W0000 00:00:1746600109.082603    5810 computation_placer.cc:177] computation placer already registered. Please check linkage and avoid linking the same target more than once.\n",
      "W0000 00:00:1746600109.082605    5810 computation_placer.cc:177] computation placer already registered. Please check linkage and avoid linking the same target more than once.\n",
      "W0000 00:00:1746600109.082606    5810 computation_placer.cc:177] computation placer already registered. Please check linkage and avoid linking the same target more than once.\n",
      "2025-05-07 08:41:49.085629: I tensorflow/core/platform/cpu_feature_guard.cc:210] This TensorFlow binary is optimized to use available CPU instructions in performance-critical operations.\n",
      "To enable the following instructions: AVX2 FMA, in other operations, rebuild TensorFlow with the appropriate compiler flags.\n"
     ]
    }
   ],
   "source": [
    "import numpy as np\n",
    "from scipy.integrate import odeint\n",
    "import matplotlib.pyplot as plt\n",
    "from sbi.inference import NPE\n",
    "import torch\n",
    "\n",
    "\n",
    "# Generate random input signal\n",
    "num_samples = 100\n",
    "t_max = 10\n",
    "num_timesteps = 64\n",
    "\n",
    "np.random.seed(4)\n",
    "\n",
    "# Generate random input signal\n",
    "x_data = np.abs(np.cumsum(np.random.rand(num_samples, num_timesteps, 1) - 0.5, axis=1))\n",
    "t_data = np.linspace(0, t_max, num_timesteps)\n",
    "\n",
    "# Interpolate input signal to match time resolution\n",
    "t = np.linspace(0, t_max, 500)\n",
    "input_signal = np.interp(t, t_data, x_data[0, :, 0])\n",
    "\n",
    "# Define system of equations\n",
    "def mass_spring_damper(y, t, m, k, b):\n",
    "    x, v = y\n",
    "    F = np.interp(t, t_data, x_data[0, :, 0])\n",
    "    dxdt = v\n",
    "    dvdt = (F - b * v - k * x) / m\n",
    "    return [dxdt, dvdt]"
   ]
  },
  {
   "cell_type": "code",
   "execution_count": 2,
   "metadata": {},
   "outputs": [
    {
     "name": "stderr",
     "output_type": "stream",
     "text": [
      "/tmp/ipykernel_5810/1718984805.py:84: UserWarning: Creating a tensor from a list of numpy.ndarrays is extremely slow. Please consider converting the list to a single numpy.ndarray with numpy.array() before converting to a tensor. (Triggered internally at /pytorch/torch/csrc/utils/tensor_new.cpp:254.)\n",
      "  theta = torch.tensor(theta, dtype=torch.float32)\n"
     ]
    },
    {
     "name": "stdout",
     "output_type": "stream",
     "text": [
      " Neural network successfully converged after 309 epochs."
     ]
    }
   ],
   "source": [
    "\n",
    "def mass_spring_damper_simulator(params):\n",
    "    m, k, b = params\n",
    "    t = np.linspace(0, 10, num_timesteps)  # Simulation time steps\n",
    "    \n",
    "    # Generate positive or non-negative input force\n",
    "    F = np.cumsum(np.random.rand(num_timesteps) - 0.25)\n",
    "    F = np.maximum(F, 0)\n",
    "\n",
    "    # Solve the system\n",
    "    x0 = [0, 0]  # Initial position and velocity\n",
    "    sol = odeint(mass_spring_damper, x0, t, args=(m, k, b, F))\n",
    "\n",
    "    # Extract state variables\n",
    "    x = sol[:, 0]\n",
    "    v = sol[:, 1]\n",
    "\n",
    "    # Get summary statistics\n",
    "    stats = extract_summary_statistics(t, x, v)\n",
    "\n",
    "    return stats\n",
    "\n",
    "def extract_summary_statistics(t, x, v):\n",
    "    steady_state = x[-1]\n",
    "\n",
    "    # Settling time\n",
    "    settling_idx = np.where(np.abs(x - steady_state) <= 0.05 * np.abs(steady_state))[0]\n",
    "    settling_time = t[settling_idx[0]] if len(settling_idx) > 0 else np.nan\n",
    "\n",
    "    # Rise time (time to go from 10% to 90% of final value)\n",
    "    try:\n",
    "        rise_start = np.where(x >= 0.1 * steady_state)[0][0]\n",
    "        rise_end = np.where(x >= 0.9 * steady_state)[0][0]\n",
    "        rise_time = t[rise_end] - t[rise_start]\n",
    "    except IndexError:\n",
    "        rise_time = np.nan\n",
    "\n",
    "    # Peak overshoot\n",
    "    peak_overshoot = (np.max(x) - steady_state) / steady_state if steady_state != 0 else np.nan\n",
    "\n",
    "    # Final position and velocity\n",
    "    final_position = x[-1]\n",
    "    final_velocity = v[-1]\n",
    "\n",
    "    # Mean and variance of position and velocity (to handle randomness)\n",
    "    mean_position = np.mean(x)\n",
    "    var_position = np.var(x)\n",
    "    mean_velocity = np.mean(v)\n",
    "    var_velocity = np.var(v)\n",
    "    energy = np.sum(x**2)\n",
    "    max_rate_of_change = np.max(np.diff(x) / np.diff(t))\n",
    "\n",
    "    # Combine all summary stats into a single vector\n",
    "    summary_stats = np.array([\n",
    "        settling_time, rise_time, peak_overshoot,\n",
    "        final_position, final_velocity,\n",
    "        mean_position, var_position,\n",
    "        mean_velocity, var_velocity,\n",
    "        energy, max_rate_of_change\n",
    "    ])\n",
    "    \n",
    "    # Handle any NaNs with a fallback value (e.g., -1 or zero)\n",
    "    summary_stats = np.nan_to_num(summary_stats, nan=-1)\n",
    "\n",
    "    return summary_stats\n",
    "\n",
    "# Prior distribution for (m, k, b) — assuming you know rough ranges\n",
    "prior = torch.distributions.Uniform(low=torch.tensor([0.1, 0.1, 0.1]),\n",
    "                                    high=torch.tensor([10.0, 10.0, 10.0]))\n",
    "\n",
    "# Convert the simulator to a PyTorch-compatible function\n",
    "simulator = lambda params: torch.tensor(mass_spring_damper_simulator(params.numpy()), dtype=torch.float32)\n",
    "\n",
    "# Create inference object\n",
    "inference = NPE(prior)\n",
    "\n",
    "# Generate training data\n",
    "theta, x = [], []\n",
    "num_simulations = 5000\n",
    "for _ in range(num_simulations):\n",
    "    params = prior.sample().numpy()\n",
    "    theta.append(params)\n",
    "    x.append(mass_spring_damper_simulator(params))\n",
    "\n",
    "theta = torch.tensor(theta, dtype=torch.float32)\n",
    "x = torch.tensor(x, dtype=torch.float32)\n",
    "\n",
    "# Train the inference network\n",
    "density_estimator = inference.append_simulations(theta, x).train()\n",
    "\n",
    "# Build posterior\n",
    "posterior = inference.build_posterior(density_estimator)"
   ]
  },
  {
   "cell_type": "code",
   "execution_count": 3,
   "metadata": {},
   "outputs": [
    {
     "data": {
      "application/vnd.jupyter.widget-view+json": {
       "model_id": "659d805ddf9c42abb2416c9725fb059c",
       "version_major": 2,
       "version_minor": 0
      },
      "text/plain": [
       "Drawing 1000000 posterior samples:   0%|          | 0/1000000 [00:00<?, ?it/s]"
      ]
     },
     "metadata": {},
     "output_type": "display_data"
    },
    {
     "name": "stdout",
     "output_type": "stream",
     "text": [
      "Inferred m, k, b: 0.9691411256790161, 8.014093399047852, 0.7904660105705261\n"
     ]
    }
   ],
   "source": [
    "# Observe a new system response\n",
    "observed_data = mass_spring_damper_simulator([1.0, 8.0, 0.8])\n",
    "observed_data = torch.tensor(observed_data, dtype=torch.float32)\n",
    "# Infer parameters\n",
    "samples = posterior.sample((1000000,), x=observed_data)\n",
    "m_inferred, k_inferred, b_inferred = samples.mean(dim=0)\n",
    "print(f\"Inferred m, k, b: {m_inferred}, {k_inferred}, {b_inferred}\")"
   ]
  },
  {
   "cell_type": "code",
   "execution_count": 4,
   "metadata": {},
   "outputs": [
    {
     "data": {
      "application/vnd.jupyter.widget-view+json": {
       "model_id": "ec4ad62ace8845efa0445bab77e2f246",
       "version_major": 2,
       "version_minor": 0
      },
      "text/plain": [
       "Drawing 1000 posterior samples:   0%|          | 0/1000 [00:00<?, ?it/s]"
      ]
     },
     "metadata": {},
     "output_type": "display_data"
    },
    {
     "name": "stdout",
     "output_type": "stream",
     "text": [
      "Sampled  m, k, b: 6.685725688934326, 7.740036964416504, 4.5135016441345215\n",
      "Inferred m, k, b: 6.365192890167236, 7.70124626159668, 4.822466850280762\n"
     ]
    }
   ],
   "source": [
    "sample = prior.sample((1,))\n",
    "observed_data_2 = mass_spring_damper_simulator(sample.numpy()[0])\n",
    "observed_data_2 = torch.tensor(observed_data_2, dtype=torch.float32)\n",
    "# Infer parameters\n",
    "samples_2 = posterior.sample((1000,), x=observed_data_2)\n",
    "m_inferred_2, k_inferred_2, b_inferred_2 = samples_2.mean(dim=0)\n",
    "print(f\"Sampled  m, k, b: {sample[0][0]}, {sample[0][1]}, {sample[0][2]}\")\n",
    "print(f\"Inferred m, k, b: {m_inferred_2}, {k_inferred_2}, {b_inferred_2}\")"
   ]
  },
  {
   "cell_type": "code",
   "execution_count": 5,
   "metadata": {},
   "outputs": [
    {
     "data": {
      "image/png": "[encoded data removed]",
      "text/plain": [
       "<Figure size 1000x1000 with 9 Axes>"
      ]
     },
     "metadata": {},
     "output_type": "display_data"
    }
   ],
   "source": [
    "from sbi import analysis\n",
    "\n",
    "fig, ax = analysis.pairplot(\n",
    "    samples_2,\n",
    "    points=sample,\n",
    "    labels=[\"m\", \"k\", \"b\"],\n",
    "    limits=[[0.1, 10.0], [0.1, 10.0], [0.1, 10.0]]  # Prior limits for m, k, b\n",
    ")"
   ]
  },
  {
   "cell_type": "code",
   "execution_count": 6,
   "metadata": {},
   "outputs": [],
   "source": [
    "import pickle\n",
    "with open(f\"./models/msd_summary_statistics_{num_simulations}.pkl\", \"wb\") as handle:\n",
    "    pickle.dump(posterior, handle)"
   ]
  },
  {
   "cell_type": "code",
   "execution_count": null,
   "metadata": {},
   "outputs": [],
   "source": []
  }
 ],
 "metadata": {
  "kernelspec": {
   "display_name": "pandora",
   "language": "python",
   "name": "python3"
  },
  "language_info": {
   "codemirror_mode": {
    "name": "ipython",
    "version": 3
   },
   "file_extension": ".py",
   "mimetype": "text/x-python",
   "name": "python",
   "nbconvert_exporter": "python",
   "pygments_lexer": "ipython3",
   "version": "3.11.13"
  }
 },
 "nbformat": 4,
 "nbformat_minor": 2
}
