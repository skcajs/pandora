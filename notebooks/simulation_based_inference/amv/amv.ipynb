{
 "cells": [
  {
   "cell_type": "code",
   "execution_count": 1,
   "metadata": {},
   "outputs": [
    {
     "name": "stderr",
     "output_type": "stream",
     "text": [
      "2025-03-27 10:36:23.948143: E external/local_xla/xla/stream_executor/cuda/cuda_fft.cc:467] Unable to register cuFFT factory: Attempting to register factory for plugin cuFFT when one has already been registered\n",
      "WARNING: All log messages before absl::InitializeLog() is called are written to STDERR\n",
      "E0000 00:00:1743068183.960929    8290 cuda_dnn.cc:8579] Unable to register cuDNN factory: Attempting to register factory for plugin cuDNN when one has already been registered\n",
      "E0000 00:00:1743068183.964674    8290 cuda_blas.cc:1407] Unable to register cuBLAS factory: Attempting to register factory for plugin cuBLAS when one has already been registered\n",
      "W0000 00:00:1743068183.974321    8290 computation_placer.cc:177] computation placer already registered. Please check linkage and avoid linking the same target more than once.\n",
      "W0000 00:00:1743068183.974339    8290 computation_placer.cc:177] computation placer already registered. Please check linkage and avoid linking the same target more than once.\n",
      "W0000 00:00:1743068183.974341    8290 computation_placer.cc:177] computation placer already registered. Please check linkage and avoid linking the same target more than once.\n",
      "W0000 00:00:1743068183.974342    8290 computation_placer.cc:177] computation placer already registered. Please check linkage and avoid linking the same target more than once.\n",
      "2025-03-27 10:36:23.977849: I tensorflow/core/platform/cpu_feature_guard.cc:210] This TensorFlow binary is optimized to use available CPU instructions in performance-critical operations.\n",
      "To enable the following instructions: AVX2 FMA, in other operations, rebuild TensorFlow with the appropriate compiler flags.\n"
     ]
    }
   ],
   "source": [
    "import numpy as np\n",
    "from scipy.integrate import odeint\n",
    "import matplotlib.pyplot as plt\n",
    "from sbi.inference import NPE\n",
    "import torch"
   ]
  },
  {
   "cell_type": "code",
   "execution_count": null,
   "metadata": {},
   "outputs": [],
   "source": [
    "ts, dt = (30.0, 0.1)\n",
    "def amv_simulator(theta):\n",
    "    m, Iz, xg, Xud, Yvd, Yrd, Nvd, Nrd, Xu, Xuu, Yv, Yvv, Yr, Nv, Nr, Nrr = theta\n",
    "    m11 = m - Xud\n",
    "    m22 = m - Yvd\n",
    "    m23 = m * xg - Yrd\n",
    "    m32 = m * xg - Nvd\n",
    "    m33 = Iz - Nrd\n",
    "    mt = m22*m33-m23*m32\n",
    "\n",
    "    M = np.array([[m11, 0, 0], [0, m22, m23], [0, m32, m33]])\n",
    "    B = dt * np.linalg.inv(M)\n",
    "    \n",
    "    a1 = dt * (m - Yvd) / (m - Xud)\n",
    "    a2 = dt * (m * xg - Yrd) / (m - Xud)\n",
    "    a3 = (-dt * (Iz - Nrd) * (m - Xud) / mt) + (dt * (m * xg - Yrd) * (m * xg - Yrd) / mt)\n",
    "    a4 = dt * (m * xg - Yrd) * (Xud - Yvd) / mt\n",
    "    a5 = (dt * (m * xg - Nvd) * (m - Xud) / mt) - (dt * (m - Yvd) * (m * xg - Yrd) / mt)\n",
    "    a6 = -dt * (m - Yvd) * (Xud - Yvd) / mt\n",
    "\n",
    "    b1  = dt * Xu / (m - Xud)\n",
    "    b2  = dt * Xuu / (m - Xud)\n",
    "    b3  = (dt * (Iz - Nrd) * Yv / mt) - (dt * (m * xg - Yrd) * Nv / mt)\n",
    "    b4  = (dt * (Iz - Nrd) * Yr / mt) - (dt * (m * xg - Yrd) * Nr / mt)\n",
    "    b5  = dt * (Iz - Nrd) * Yvv / mt\n",
    "    b6  = -dt * (m * xg - Yrd) * Nrr / mt\n",
    "    b7  = (dt * (m - Yvd) * Nv / mt) - (dt * (m * xg - Nvd) * Yv / mt)\n",
    "    b8  = (dt * (m - Yvd) * Nr / mt) - (dt * (m * xg - Nvd) * Yr / mt)\n",
    "    b9  = -dt * (m * xg - Nvd) * Yvv / mt\n",
    "    b10 = dt * (m - Yvd) * Nrr / mt\n",
    "\n",
    "    tau = np.array([5, 10, 0]).reshape(3,1)\n",
    "\n",
    "    steps = int(ts/dt)\n",
    "    u0 = 0.0\n",
    "    v0 = 0.0\n",
    "    r0 = 0.0\n",
    "\n",
    "    u, v, r = float(u0), float(v0), float(r0)\n",
    "\n",
    "    uvr = np.array([[u, v, r]])\n",
    "\n",
    "    trajectory = []\n",
    "\n",
    "    for _ in range(steps):\n",
    "\n",
    "        c = np.array([[a1*v*r + a2*r*r + b1*u + b2*abs(u)*u],\n",
    "                      [a3*u*r + a4*u*v + b3*v + b4*r + b5*abs(v)*v + b6*abs(r)*r],\n",
    "                      [a5*u*r + a6*u*v + b7*v + b8*r + b9*abs(v)*v + b10*abs(r)*r]])\n",
    "        \n",
    "        uvr = uvr + c.T + (B @ tau).T\n",
    "\n",
    "        u, v, r = uvr.flatten()\n",
    "\n",
    "        trajectory.append(uvr.flatten())\n",
    "\n",
    "    return torch.tensor(trajectory)"
   ]
  }
 ],
 "metadata": {
  "kernelspec": {
   "display_name": "pandora",
   "language": "python",
   "name": "python3"
  },
  "language_info": {
   "codemirror_mode": {
    "name": "ipython",
    "version": 3
   },
   "file_extension": ".py",
   "mimetype": "text/x-python",
   "name": "python",
   "nbconvert_exporter": "python",
   "pygments_lexer": "ipython3",
   "version": "3.12.8"
  }
 },
 "nbformat": 4,
 "nbformat_minor": 2
}
