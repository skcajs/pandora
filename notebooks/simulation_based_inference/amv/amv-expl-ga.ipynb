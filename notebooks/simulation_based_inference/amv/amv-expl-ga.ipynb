{
 "cells": [
  {
   "cell_type": "code",
   "execution_count": 42,
   "metadata": {},
   "outputs": [],
   "source": [
    "import torch\n",
    "import numpy as np\n",
    "from sbi.neural_nets import posterior_nn\n",
    "from sbi.neural_nets.embedding_nets import CNNEmbedding, FCEmbedding\n",
    "from sbi.inference import NPE, simulate_for_sbi\n",
    "from sbi.utils import BoxUniform\n",
    "from sbi import analysis\n",
    "\n",
    "import pickle\n",
    "import torch.nn as nn\n",
    "\n",
    "from scipy.signal import find_peaks\n",
    "from scipy.fft import fft, fftfreq\n",
    "from scipy.stats import skew, kurtosis\n",
    "\n",
    "from scipy.fft import rfft, rfftfreq\n",
    "from scipy.stats import entropy\n",
    "\n",
    "from scipy.signal import savgol_filter\n",
    "\n",
    "from sbi.utils.user_input_checks import (\n",
    "    check_sbi_inputs,\n",
    "    process_prior,\n",
    "    process_simulator,\n",
    ")\n",
    "\n",
    "import matplotlib.pyplot as plt"
   ]
  },
  {
   "cell_type": "code",
   "execution_count": 43,
   "metadata": {},
   "outputs": [],
   "source": [
    "# Generate random input signal\n",
    "num_simulations = 100000\n",
    "num_samples = 100\n",
    "t_max = 10\n",
    "num_timesteps = 64\n",
    "noise_std = 0.0025\n",
    "\n",
    "# np.random.seed(4) # unsure if still need this here\n",
    "seed = 42\n",
    "\n",
    "# Generate random input signal\n",
    "x_data = np.abs(np.cumsum(np.random.rand(num_samples, num_timesteps, 1) - 0.5, axis=1))\n",
    "t_data = np.linspace(0, t_max, num_timesteps)\n",
    "\n",
    "# Interpolate input signal to match time resolution\n",
    "t = np.linspace(0, t_max, 500)\n",
    "input_signal = np.interp(t, t_data, x_data[0, :, 0])"
   ]
  },
  {
   "cell_type": "code",
   "execution_count": 44,
   "metadata": {},
   "outputs": [],
   "source": [
    "ts, dt = 30.0, 0.1\n",
    "steps = int(ts / dt)\n",
    "\n",
    "def amv(theta, tau_sequence=None, noise_std=0.0, seed=None):\n",
    "    \n",
    "    if seed is not None:\n",
    "        np.random.seed(seed)\n",
    "\n",
    "    Xu, Xuu, Yv, Yvv, Yr, Nv, Nr, Nrr = theta\n",
    "\n",
    "    m   = 23.8\n",
    "    Iz   = 1.76\n",
    "    xg   = 0.046\n",
    "\n",
    "    Xud  = -2\n",
    "    Yvd  = -10\n",
    "    Yrd  = 0\n",
    "    Nvd  = 0\n",
    "    Nrd  = -1\n",
    "\n",
    "    m11 = m - Xud\n",
    "    m22 = m - Yvd\n",
    "    m23 = m * xg - Yrd\n",
    "    m32 = m * xg - Nvd\n",
    "    m33 = Iz - Nrd\n",
    "    mt = m22 * m33 - m23 * m32\n",
    "\n",
    "    a1 = dt * (m - Yvd) / (m - Xud)\n",
    "    a2 = dt * (m * xg - Yrd) / (m - Xud)\n",
    "    a3 = (-dt * (Iz - Nrd) * (m - Xud) / mt) + (dt * (m * xg - Yrd) * (m * xg - Yrd) / mt)\n",
    "    a4 = dt * (m * xg - Yrd) * (Xud - Yvd) / mt\n",
    "    a5 = (dt * (m * xg - Nvd) * (m - Xud) / mt) - (dt * (m - Yvd) * (m * xg - Yrd) / mt)\n",
    "    a6 = -dt * (m - Yvd) * (Xud - Yvd) / mt\n",
    "\n",
    "    b1  = dt * Xu / (m - Xud)\n",
    "    b2  = dt * Xuu / (m - Xud)\n",
    "    b3  = (dt * (Iz - Nrd) * Yv / mt) - (dt * (m * xg - Yrd) * Nv / mt)\n",
    "    b4  = (dt * (Iz - Nrd) * Yr / mt) - (dt * (m * xg - Yrd) * Nr / mt)\n",
    "    b5  = dt * (Iz - Nrd) * Yvv / mt\n",
    "    b6  = -dt * (m * xg - Yrd) * Nrr / mt\n",
    "    b7  = (dt * (m - Yvd) * Nv / mt) - (dt * (m * xg - Nvd) * Yv / mt)\n",
    "    b8  = (dt * (m - Yvd) * Nr / mt) - (dt * (m * xg - Nvd) * Yr / mt)\n",
    "    b9  = -dt * (m * xg - Nvd) * Yvv / mt\n",
    "    b10 = dt * (m - Yvd) * Nrr / mt\n",
    "\n",
    "    M = np.array([[m11, 0, 0], [0, m22, m23], [0, m32, m33]])\n",
    "    B = dt * np.linalg.inv(M)\n",
    "    \n",
    "    zeta = np.array([\n",
    "        a1, a2, b1, b2, a3, a4, b3, b4, b5, b6, a5, a6, b7, b8, b9, b10\n",
    "    ])\n",
    "\n",
    "    # Control input (default = fixed)\n",
    "    if tau_sequence is None:\n",
    "        tau_sequence = np.tile(np.array([[5, 10, 0]]), (steps, 1))\n",
    "\n",
    "    # Initial state\n",
    "    u, v, r = 0.0, 0.0, 0.0\n",
    "    trajectory = []\n",
    "\n",
    "    for i in range(steps):\n",
    "        # Compute nonlinear basis vector f(ν_k)\n",
    "\n",
    "        u_clamp = np.clip(u, -50, 50)\n",
    "        v_clamp = np.clip(v, -50, 50)\n",
    "        r_clamp = np.clip(r, -10, 10)\n",
    "\n",
    "        f = np.array([\n",
    "            [v_clamp * r_clamp, r_clamp**2, u_clamp, abs(u_clamp) * u_clamp, 0, 0, 0, 0, 0, 0, 0, 0, 0, 0, 0, 0],\n",
    "            [0, 0, 0, 0, u_clamp * r_clamp, u_clamp * v_clamp, v_clamp, r_clamp, abs(v_clamp) * v_clamp, abs(r_clamp) * r_clamp, 0, 0, 0, 0, 0, 0],\n",
    "            [0, 0, 0, 0, 0, 0, 0, 0, 0, 0, u_clamp * r_clamp, u_clamp * v_clamp, v_clamp, r_clamp, abs(v_clamp) * v_clamp, abs(r_clamp) * r_clamp]\n",
    "        ])\n",
    "\n",
    "        # Compute state update\n",
    "        dnu = f @ zeta + (B @ tau_sequence[i].reshape(3, 1)).flatten()\n",
    "\n",
    "        # Add noise if requested\n",
    "        if noise_std > 0:\n",
    "            dnu += np.random.normal(scale=noise_std, size=3)\n",
    "\n",
    "        # Update state\n",
    "        u, v, r = u + dnu[0], v + dnu[1], r + dnu[2]\n",
    "\n",
    "        # Save state\n",
    "        trajectory.append([u, v, r])\n",
    "\n",
    "    return torch.tensor(trajectory, dtype=torch.float32)"
   ]
  },
  {
   "cell_type": "code",
   "execution_count": 45,
   "metadata": {},
   "outputs": [],
   "source": [
    "# True parameters\n",
    "m_true   = 23.8\n",
    "Iz_true   = 1.76\n",
    "xg_true   = 0.046\n",
    "\n",
    "Xud_true  = -2\n",
    "Yvd_true  = -10\n",
    "Yrd_true  = 0\n",
    "Nvd_true  = 0\n",
    "Nrd_true  = -1\n",
    "\n",
    "Xu_true   = -0.7225\n",
    "Xuu_true  = -1.3274\n",
    "Yv_true   = -0.8612\n",
    "Yvv_true  = -36.2823\n",
    "Yr_true   = 0.1079\n",
    "Nv_true   = 0.1052\n",
    "Nr_true  = -0.5\n",
    "Nrr_true = -1\n",
    "\n",
    "true_params = torch.tensor([Xu_true, Xuu_true, Yv_true, Yvv_true, Yr_true, Nv_true, Nr_true, Nrr_true])"
   ]
  },
  {
   "cell_type": "code",
   "execution_count": 51,
   "metadata": {},
   "outputs": [],
   "source": [
    "low = np.array([-2.0, -2.0, -2.0, -50.0, -1.0, -1.0, -1.5, -2.0])\n",
    "high = np.array([0.0, 0.0, 0.0, -20.0, 1.0, 1.0, 0.0, 0.0])\n",
    "gene_space = [{'low': l, 'high': h} for l, h in zip(low, high)]"
   ]
  },
  {
   "cell_type": "code",
   "execution_count": 63,
   "metadata": {},
   "outputs": [],
   "source": [
    "import pygad\n",
    "\n",
    "theta_true = [Xu_true, Xuu_true, Yv_true, Yvv_true, Yr_true, Nv_true, Nr_true, Nrr_true]\n",
    "\n",
    "obs_traj = amv(theta_true, noise_std=0.0, seed=42).numpy()\n",
    "\n",
    "def fitness_func(ga_instance, solution, solution_idx):\n",
    "    theta = np.clip(solution, low, high)\n",
    "    try:\n",
    "        sim_traj = amv(theta, noise_std=0.0, seed=42).numpy()\n",
    "        error = np.mean((sim_traj - obs_traj)**2)\n",
    "        return -error\n",
    "    except Exception:\n",
    "        return -1e6\n",
    "\n",
    "ga_instance = pygad.GA(\n",
    "    num_generations=1000,\n",
    "    num_parents_mating=10,\n",
    "    fitness_func=fitness_func,\n",
    "    sol_per_pop=100,\n",
    "    num_genes=8,\n",
    "    gene_space=gene_space,\n",
    "    mutation_percent_genes=50,\n",
    "    mutation_type=\"random\",\n",
    "    crossover_type=\"single_point\",\n",
    "    allow_duplicate_genes=False,\n",
    "    random_mutation_min_val=-0.01,\n",
    "    random_mutation_max_val=0.01,\n",
    "    stop_criteria=\"saturate_20\"\n",
    ")\n",
    "\n",
    "\n",
    "ga_instance.run()\n",
    "solution, solution_fitness, _ = ga_instance.best_solution()"
   ]
  },
  {
   "cell_type": "code",
   "execution_count": 64,
   "metadata": {},
   "outputs": [
    {
     "name": "stdout",
     "output_type": "stream",
     "text": [
      "\n",
      "Best parameters found: [-7.27334764e-01 -1.19733115e-01 -5.26723265e-02 -3.88315170e+01\n",
      " -4.32158051e-01 -2.94402514e-02 -8.64793587e-01 -6.32072461e-01]\n",
      "True parameters: [ -0.7225  -1.3274  -0.8612 -36.2823   0.1079   0.1052  -0.5     -1.    ]\n",
      "Parameter error: [-0.00483474  1.20766685  0.80852765 -2.54921796 -0.54005805 -0.13464025\n",
      " -0.36479359  0.36792754]\n",
      "Fitness (negative MSE): -1.0085617e-05\n"
     ]
    }
   ],
   "source": [
    "print(\"\\nBest parameters found:\", solution)\n",
    "print(\"True parameters:\", true_params.numpy())\n",
    "print(\"Parameter error:\", solution - true_params.numpy())\n",
    "print(\"Fitness (negative MSE):\", solution_fitness)"
   ]
  },
  {
   "cell_type": "code",
   "execution_count": 65,
   "metadata": {},
   "outputs": [
    {
     "name": "stderr",
     "output_type": "stream",
     "text": [
      "/home/sam/miniconda3/envs/pandora/lib/python3.11/site-packages/pygad/visualize/plot.py:120: UserWarning: No artists with labels found to put in legend.  Note that artists whose label start with an underscore are ignored when legend() is called with no argument.\n",
      "  matplt.legend()\n"
     ]
    },
    {
     "data": {
      "image/png": "[encoded data removed]",
      "text/plain": [
       "<Figure size 640x480 with 1 Axes>"
      ]
     },
     "metadata": {},
     "output_type": "display_data"
    },
    {
     "data": {
      "image/png": "[encoded data removed]",
      "text/plain": [
       "<Figure size 640x480 with 1 Axes>"
      ]
     },
     "execution_count": 65,
     "metadata": {},
     "output_type": "execute_result"
    }
   ],
   "source": [
    "ga_instance.plot_fitness()"
   ]
  },
  {
   "cell_type": "code",
   "execution_count": null,
   "metadata": {},
   "outputs": [],
   "source": []
  }
 ],
 "metadata": {
  "kernelspec": {
   "display_name": "pandora",
   "language": "python",
   "name": "python3"
  },
  "language_info": {
   "codemirror_mode": {
    "name": "ipython",
    "version": 3
   },
   "file_extension": ".py",
   "mimetype": "text/x-python",
   "name": "python",
   "nbconvert_exporter": "python",
   "pygments_lexer": "ipython3",
   "version": "3.11.13"
  }
 },
 "nbformat": 4,
 "nbformat_minor": 2
}
