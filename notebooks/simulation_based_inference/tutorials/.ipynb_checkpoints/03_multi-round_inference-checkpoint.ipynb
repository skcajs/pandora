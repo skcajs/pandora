{
 "cells": [
  {
   "cell_type": "code",
   "execution_count": 1,
   "id": "2be9506e-4d47-4fbb-beec-b71a39271f6b",
   "metadata": {},
   "outputs": [],
   "source": [
    "import torch\n",
    "\n",
    "from sbi.analysis import pairplot\n",
    "from sbi.inference import NPE, simulate_for_sbi\n",
    "from sbi.utils import BoxUniform\n",
    "from sbi.utils.user_input_checks import (\n",
    "    check_sbi_inputs,\n",
    "    process_prior,\n",
    "    process_simulator,\n",
    ")"
   ]
  },
  {
   "cell_type": "code",
   "execution_count": 4,
   "id": "9100694d-4baf-4965-b41c-aa20a20de3a2",
   "metadata": {},
   "outputs": [],
   "source": [
    "# 2 rounds: first round simulates from the prior, the second round simulates the parameter set that were sampled from the obtained posterior.\n",
    "num_rounds = 2\n",
    "num_dim = 3\n",
    "# The specific observation we want to focus the inference on\n",
    "x_o = torch.zeros(num_dim,)\n",
    "prior = BoxUniform(low=-2*torch.ones(num_dim), high=2*torch.ones(num_dim))\n",
    "simulator = lambda theta: theta + torch.randn_like(theta) * 0.1"
   ]
  },
  {
   "cell_type": "code",
   "execution_count": 5,
   "id": "57c80713-96ff-4a14-b67e-b930de897e62",
   "metadata": {},
   "outputs": [],
   "source": [
    "# Ensure compliance with sbi's requirements\n",
    "prior, num_parameters, prior_returns_numpy = process_prior(prior)\n",
    "simulator = process_simulator(simulator, prior, prior_returns_numpy)\n",
    "check_sbi_inputs(simulator, prior)"
   ]
  },
  {
   "cell_type": "code",
   "execution_count": 6,
   "id": "b8bcf010-1078-436c-81d5-5fc567691b1b",
   "metadata": {},
   "outputs": [],
   "source": [
    "inference = NPE(prior)"
   ]
  },
  {
   "cell_type": "code",
   "execution_count": 7,
   "id": "b5c2dfde-0c1f-4792-89cd-40f806e3ddb6",
   "metadata": {},
   "outputs": [],
   "source": [
    "posteriors = []\n",
    "proposal = prior"
   ]
  },
  {
   "cell_type": "code",
   "execution_count": 8,
   "id": "f08a3799-0959-46ab-b809-4237ae71f29c",
   "metadata": {},
   "outputs": [
    {
     "data": {
      "application/vnd.jupyter.widget-view+json": {
       "model_id": "3810e9dba9a24123a8db9a5200dc03be",
       "version_major": 2,
       "version_minor": 0
      },
      "text/plain": [
       "  0%|          | 0/500 [00:00<?, ?it/s]"
      ]
     },
     "metadata": {},
     "output_type": "display_data"
    },
    {
     "name": "stdout",
     "output_type": "stream",
     "text": [
      " Neural network successfully converged after 304 epochs."
     ]
    },
    {
     "data": {
      "application/vnd.jupyter.widget-view+json": {
       "model_id": "a635a9358b1344d9bc1fba310863ce69",
       "version_major": 2,
       "version_minor": 0
      },
      "text/plain": [
       "Drawing 500 posterior samples:   0%|          | 0/500 [00:00<?, ?it/s]"
      ]
     },
     "metadata": {},
     "output_type": "display_data"
    },
    {
     "data": {
      "application/vnd.jupyter.widget-view+json": {
       "model_id": "68660c79be714bd2ba87873c97928280",
       "version_major": 2,
       "version_minor": 0
      },
      "text/plain": [
       "  0%|          | 0/500 [00:00<?, ?it/s]"
      ]
     },
     "metadata": {},
     "output_type": "display_data"
    },
    {
     "name": "stdout",
     "output_type": "stream",
     "text": [
      "Using SNPE-C with atomic loss\n",
      " Neural network successfully converged after 31 epochs."
     ]
    }
   ],
   "source": [
    "for _ in range(num_rounds):\n",
    "    theta, x = simulate_for_sbi(simulator, proposal, num_simulations=500)\n",
    "\n",
    "    #In 'SNLE' and 'SRNE', you should not pass the 'proposal' to the '.append_simulations()'\n",
    "    density_estimator = inference.append_simulations(theta, x, proposal=proposal).train()\n",
    "    posterior = inference.build_posterior(density_estimator)\n",
    "    posteriors.append(posterior)\n",
    "    proposal = posterior.set_default_x(x_o)"
   ]
  },
  {
   "cell_type": "markdown",
   "id": "102c538f-f71a-40ec-b0a7-00d5a8ac2d48",
   "metadata": {},
   "source": [
    "## Linear Gaussian example"
   ]
  },
  {
   "cell_type": "code",
   "execution_count": 9,
   "id": "66a6dd37-489d-4602-ab08-b276e4756a46",
   "metadata": {},
   "outputs": [],
   "source": [
    "def linear_gaussian(theta):\n",
    "    return theta + 1.0 + torch.randn_like(theta) * 0.1"
   ]
  },
  {
   "cell_type": "code",
   "execution_count": 10,
   "id": "2abe740a-d22c-4641-9d15-362ae02b04cc",
   "metadata": {},
   "outputs": [],
   "source": [
    "# Check prior, return PyTorch prior.\n",
    "prior, num_parameters, prior_returns_numpy = process_prior(prior)\n",
    "\n",
    "# Check simulator, returns PyTorch simulator able to simulate batches.\n",
    "simulator = process_simulator(linear_gaussian, prior, prior_returns_numpy)\n",
    "\n",
    "# Consistency check after making ready for sbi.\n",
    "check_sbi_inputs(simulator, prior)"
   ]
  },
  {
   "cell_type": "code",
   "execution_count": 11,
   "id": "1bb14597-7a67-4f63-8f28-b0d446518c07",
   "metadata": {},
   "outputs": [],
   "source": [
    "inference = NPE(prior=prior)"
   ]
  },
  {
   "cell_type": "code",
   "execution_count": 12,
   "id": "cbd57b5e-a980-47b6-ab52-d5e20e408c35",
   "metadata": {},
   "outputs": [
    {
     "data": {
      "application/vnd.jupyter.widget-view+json": {
       "model_id": "6838b592cc4b4b5cb7b9ff679fbd9545",
       "version_major": 2,
       "version_minor": 0
      },
      "text/plain": [
       "  0%|          | 0/500 [00:00<?, ?it/s]"
      ]
     },
     "metadata": {},
     "output_type": "display_data"
    },
    {
     "name": "stdout",
     "output_type": "stream",
     "text": [
      " Neural network successfully converged after 217 epochs."
     ]
    },
    {
     "data": {
      "application/vnd.jupyter.widget-view+json": {
       "model_id": "bccbb3069b4d4bc1a997fc939c5ce347",
       "version_major": 2,
       "version_minor": 0
      },
      "text/plain": [
       "Drawing 500 posterior samples:   0%|          | 0/500 [00:00<?, ?it/s]"
      ]
     },
     "metadata": {},
     "output_type": "display_data"
    },
    {
     "data": {
      "application/vnd.jupyter.widget-view+json": {
       "model_id": "e2c6522f78434ed4af1c5105b175ce5e",
       "version_major": 2,
       "version_minor": 0
      },
      "text/plain": [
       "  0%|          | 0/500 [00:00<?, ?it/s]"
      ]
     },
     "metadata": {},
     "output_type": "display_data"
    },
    {
     "name": "stdout",
     "output_type": "stream",
     "text": [
      "Using SNPE-C with atomic loss\n",
      " Neural network successfully converged after 26 epochs."
     ]
    }
   ],
   "source": [
    "num_rounds = 2\n",
    "x_o = torch.zeros(\n",
    "    3,\n",
    ")\n",
    "\n",
    "posteriors = []\n",
    "proposal = prior\n",
    "\n",
    "for _ in range(num_rounds):\n",
    "    theta, x = simulate_for_sbi(simulator, proposal, num_simulations=500)\n",
    "    density_estimator = inference.append_simulations(\n",
    "        theta, x, proposal=proposal\n",
    "    ).train()\n",
    "    posterior = inference.build_posterior(density_estimator)\n",
    "    posteriors.append(posterior)\n",
    "    proposal = posterior.set_default_x(x_o)"
   ]
  },
  {
   "cell_type": "code",
   "execution_count": 13,
   "id": "a52b26a9-037b-4720-945c-58fe2c941d2d",
   "metadata": {},
   "outputs": [
    {
     "data": {
      "application/vnd.jupyter.widget-view+json": {
       "model_id": "094844d4639e4a438a01482af61bd722",
       "version_major": 2,
       "version_minor": 0
      },
      "text/plain": [
       "Drawing 10000 posterior samples:   0%|          | 0/10000 [00:00<?, ?it/s]"
      ]
     },
     "metadata": {},
     "output_type": "display_data"
    },
    {
     "data": {
      "image/png": "[encoded data removed]",
      "text/plain": [
       "<Figure size 500x500 with 9 Axes>"
      ]
     },
     "metadata": {},
     "output_type": "display_data"
    }
   ],
   "source": [
    "posterior_samples = posterior.sample((10000,), x=x_o)\n",
    "\n",
    "# plot posterior samples\n",
    "fig, ax = pairplot(\n",
    "    posterior_samples, limits=[[-2, 2], [-2, 2], [-2, 2]], figsize=(5, 5)\n",
    ")"
   ]
  },
  {
   "cell_type": "code",
   "execution_count": null,
   "id": "fa8f300b-7e5e-4daa-8b5e-c16a72eb8628",
   "metadata": {},
   "outputs": [],
   "source": []
  }
 ],
 "metadata": {
  "kernelspec": {
   "display_name": "Python 3 (ipykernel)",
   "language": "python",
   "name": "python3"
  },
  "language_info": {
   "codemirror_mode": {
    "name": "ipython",
    "version": 3
   },
   "file_extension": ".py",
   "mimetype": "text/x-python",
   "name": "python",
   "nbconvert_exporter": "python",
   "pygments_lexer": "ipython3",
   "version": "3.12.8"
  }
 },
 "nbformat": 4,
 "nbformat_minor": 5
}
