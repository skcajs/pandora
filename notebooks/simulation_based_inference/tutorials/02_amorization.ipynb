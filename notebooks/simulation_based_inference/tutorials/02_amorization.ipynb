{
 "cells": [
  {
   "cell_type": "markdown",
   "id": "ff2634f6-1455-4c6e-818c-d105bf2dd9be",
   "metadata": {},
   "source": [
    "# Amortized Posterior\n",
    "In the previous example, we ran the sbi for a single observation, generating a posterior and predicting the parameters of that observation\n",
    "We can run the posterior for multiple observations without the need to re-run the inference. This is because the posterior is Amortized."
   ]
  },
  {
   "cell_type": "code",
   "execution_count": 2,
   "id": "a7e01f0f-7bca-4514-8c93-35590b736804",
   "metadata": {},
   "outputs": [],
   "source": [
    "import torch\n",
    "from sbi import analysis as analysis\n",
    "from sbi import utils as utils\n",
    "from sbi.inference import NPE, simulate_for_sbi\n",
    "from sbi.utils.user_input_checks import (\n",
    "    check_sbi_inputs,\n",
    "    process_prior,\n",
    "    process_simulator,\n",
    ")"
   ]
  },
  {
   "cell_type": "code",
   "execution_count": 3,
   "id": "82450e26-161a-42fe-a6b3-29a434e20c6c",
   "metadata": {},
   "outputs": [],
   "source": [
    "# Define the number of parameters\n",
    "num_dim = 3"
   ]
  },
  {
   "cell_type": "code",
   "execution_count": 4,
   "id": "2b16ac74-d8d2-4d89-be3c-9c22ef383748",
   "metadata": {},
   "outputs": [],
   "source": [
    "def simulator(theta):\n",
    "    # linear guassian\n",
    "    return theta + 1.0 + torch.randn_like(theta) * 0.1"
   ]
  },
  {
   "cell_type": "code",
   "execution_count": 6,
   "id": "6f6a7e92-b1a7-418f-a988-3a5ce2f9eab1",
   "metadata": {},
   "outputs": [],
   "source": [
    "prior = utils.BoxUniform(low=-2 * torch.ones(num_dim), high=2 * torch.ones(num_dim))"
   ]
  },
  {
   "cell_type": "code",
   "execution_count": 7,
   "id": "e0ce5905-c94f-44fe-9fcd-c76139dc290a",
   "metadata": {},
   "outputs": [],
   "source": [
    "# Check prior, return PyTorch prior\n",
    "prior, num_parameters, prior_returns_numpy = process_prior(prior)"
   ]
  },
  {
   "cell_type": "code",
   "execution_count": 8,
   "id": "15016443-2639-4f62-8f2e-685f1c3888be",
   "metadata": {},
   "outputs": [],
   "source": [
    "# Check simulator, returns PyTorch simulator able to simulate batches.\n",
    "simulator = process_simulator(simulator, prior, prior_returns_numpy)"
   ]
  },
  {
   "cell_type": "code",
   "execution_count": 9,
   "id": "6806d87d-bfec-4e85-ac07-afbe796ca288",
   "metadata": {},
   "outputs": [],
   "source": [
    "# Consistency check after making ready fo# Visualise the resultsr sbi\n",
    "check_sbi_inputs(simulator, prior)"
   ]
  },
  {
   "cell_type": "code",
   "execution_count": 10,
   "id": "aef172c3-25f3-49c0-aa3c-81414f4be6be",
   "metadata": {},
   "outputs": [],
   "source": [
    "# Build inference object\n",
    "inference = NPE(prior=prior)"
   ]
  },
  {
   "cell_type": "code",
   "execution_count": 11,
   "id": "1d59cedc-23b0-47a6-8ceb-90b258ae1bb5",
   "metadata": {},
   "outputs": [
    {
     "name": "stderr",
     "output_type": "stream",
     "text": [
      "100%|███████████████████████████████████| 2000/2000 [00:00<00:00, 124852.77it/s]\n"
     ]
    }
   ],
   "source": [
    "# Generate simulations\n",
    "theta, x = simulate_for_sbi(simulator, proposal=prior, num_simulations=2000)"
   ]
  },
  {
   "cell_type": "code",
   "execution_count": 12,
   "id": "29b57b11-e202-49f2-ac2d-47774adfa536",
   "metadata": {},
   "outputs": [],
   "source": [
    "# Append simulations to the inference object\n",
    "inference = inference.append_simulations(theta, x)"
   ]
  },
  {
   "cell_type": "code",
   "execution_count": 13,
   "id": "c98d4b47-62c4-45cd-8917-a5d4d4031099",
   "metadata": {},
   "outputs": [
    {
     "name": "stdout",
     "output_type": "stream",
     "text": [
      " Neural network successfully converged after 91 epochs."
     ]
    }
   ],
   "source": [
    "# Train the density estimator\n",
    "density_estimator = inference.train()"
   ]
  },
  {
   "cell_type": "code",
   "execution_count": 14,
   "id": "570e9c77-fc91-4904-b3c9-4ed66339fdd9",
   "metadata": {},
   "outputs": [],
   "source": [
    "# Build the posterior from the trained inference model\n",
    "posterior = inference.build_posterior(density_estimator)"
   ]
  },
  {
   "cell_type": "markdown",
   "id": "ff0c93a7-0fb7-4e82-8307-187fd67f0551",
   "metadata": {},
   "source": [
    "# Amortized Inference"
   ]
  },
  {
   "cell_type": "markdown",
   "id": "7dd3a882-eddf-4666-87ff-b594af19037c",
   "metadata": {},
   "source": [
    "Note that, so far, we have followed the same steps as we did previously in our first example. we can now evaluate the posterior for different observations without having to re-run the inference. An amortized posterior is one that is not focused on any particular observation."
   ]
  },
  {
   "cell_type": "code",
   "execution_count": 18,
   "id": "1f260cc9-044b-4fd1-8e64-9a5919d306f3",
   "metadata": {},
   "outputs": [],
   "source": [
    "# Lets take 2 observations\n",
    "theta_1 = prior.sample((1,))\n",
    "x_obs_1 = simulator(theta_1)\n",
    "theta_2 = prior.sample((1,))\n",
    "x_obs_2 = simulator(theta_2)"
   ]
  },
  {
   "cell_type": "code",
   "execution_count": 19,
   "id": "331f6d68-8fcd-438f-96ce-47ffa5edd2c4",
   "metadata": {},
   "outputs": [
    {
     "name": "stderr",
     "output_type": "stream",
     "text": [
      "Drawing 10000 posterior samples: 100%|█| 10000/10000 [00:00<00:00, 87138.98it/s]\n"
     ]
    },
    {
     "data": {
      "image/png": "[encoded data removed]",
      "text/plain": [
       "<Figure size 500x500 with 9 Axes>"
      ]
     },
     "metadata": {},
     "output_type": "display_data"
    }
   ],
   "source": [
    "# We can plot the posterior for x_1\n",
    "posterior_samples_1 = posterior.sample((10000,), x=x_obs_1)\n",
    "# plot posterior samples\n",
    "_ = analysis.pairplot(\n",
    "    posterior_samples_1, limits=[[-2, 2], [-2, 2], [-2, 2]], figsize=(5, 5),\n",
    "    labels=[r\"$\\theta_1$\", r\"$\\theta_2$\", r\"$\\theta_3$\"],\n",
    "    points=theta_1 # add ground truth thetas\n",
    ")"
   ]
  },
  {
   "cell_type": "code",
   "execution_count": 20,
   "id": "12247e9d-e53a-4b70-b383-b8d1eb1513c2",
   "metadata": {},
   "outputs": [
    {
     "name": "stderr",
     "output_type": "stream",
     "text": [
      "Drawing 10000 posterior samples: 100%|█| 10000/10000 [00:00<00:00, 91515.55it/s]\n"
     ]
    },
    {
     "data": {
      "image/png": "[encoded data removed]",
      "text/plain": [
       "<Figure size 500x500 with 9 Axes>"
      ]
     },
     "metadata": {},
     "output_type": "display_data"
    }
   ],
   "source": [
    "# and the same for x_2\n",
    "posterior_samples_2 = posterior.sample((10000,), x=x_obs_2)\n",
    "# plot posterior samples\n",
    "_ = analysis.pairplot(\n",
    "    posterior_samples_2, limits=[[-2, 2], [-2, 2], [-2, 2]], figsize=(5, 5),\n",
    "    labels=[r\"$\\theta_1$\", r\"$\\theta_2$\", r\"$\\theta_3$\"],\n",
    "    points=theta_2 # add ground truth thetas\n",
    ")"
   ]
  },
  {
   "cell_type": "code",
   "execution_count": null,
   "id": "7d5a502e-b1da-4477-bef4-275feb30c408",
   "metadata": {},
   "outputs": [],
   "source": []
  }
 ],
 "metadata": {
  "kernelspec": {
   "display_name": "Python 3 (ipykernel)",
   "language": "python",
   "name": "python3"
  },
  "language_info": {
   "codemirror_mode": {
    "name": "ipython",
    "version": 3
   },
   "file_extension": ".py",
   "mimetype": "text/x-python",
   "name": "python",
   "nbconvert_exporter": "python",
   "pygments_lexer": "ipython3",
   "version": "3.12.8"
  }
 },
 "nbformat": 4,
 "nbformat_minor": 5
}
